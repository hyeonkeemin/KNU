{
 "cells": [
  {
   "cell_type": "code",
   "execution_count": 3,
   "id": "7a191ce6-7c31-482e-9604-fc98f30fedf4",
   "metadata": {},
   "outputs": [],
   "source": [
    "import pandas as pd\n",
    "import numpy as np\n",
    "import random\n",
    "import time\n",
    "import math"
   ]
  },
  {
   "cell_type": "code",
   "execution_count": 2,
   "id": "358cfc45-3556-4506-b988-0a31e633c523",
   "metadata": {},
   "outputs": [],
   "source": [
    "df = pd.read_csv('train_titanic.csv')\n",
    "\n",
    "X = df[['PassengerId', 'Pclass', 'Age', 'SibSp', 'Parch', 'Fare']].values\n",
    "y = df['Survived'].values"
   ]
  },
  {
   "cell_type": "code",
   "execution_count": null,
   "id": "c3621e83-fa7f-423d-a97a-a45fdf3357c8",
   "metadata": {},
   "outputs": [],
   "source": []
  }
 ],
 "metadata": {
  "kernelspec": {
   "display_name": "Python 3 (ipykernel)",
   "language": "python",
   "name": "python3"
  },
  "language_info": {
   "codemirror_mode": {
    "name": "ipython",
    "version": 3
   },
   "file_extension": ".py",
   "mimetype": "text/x-python",
   "name": "python",
   "nbconvert_exporter": "python",
   "pygments_lexer": "ipython3",
   "version": "3.8.8"
  }
 },
 "nbformat": 4,
 "nbformat_minor": 5
}
