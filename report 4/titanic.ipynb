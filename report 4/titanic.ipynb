{
 "cells": [
  {
   "cell_type": "code",
   "execution_count": 1,
   "id": "3a61cb87-4d0b-4c75-8723-c09ca7a7a4c7",
   "metadata": {},
   "outputs": [],
   "source": [
    "import matplotlib.pyplot as plt\n",
    "import numpy as np\n",
    "import pandas as pd"
   ]
  },
  {
   "cell_type": "code",
   "execution_count": 2,
   "id": "07ce5fd3-ba95-482f-bcc0-fc1aeab8b7e3",
   "metadata": {},
   "outputs": [],
   "source": [
    "np.random.seed(3413)"
   ]
  },
  {
   "cell_type": "code",
   "execution_count": 3,
   "id": "655b38c3-61c2-4838-bc19-46eb0e0b2404",
   "metadata": {},
   "outputs": [],
   "source": [
    "# path=r'C:\\Users\\imim555\\iCloudDrive\\KNU\\DM\\file\\train_titanic.csv'\n",
    "df=pd.read_csv('train_titanic.csv')\n",
    "\n",
    "# 데이터 확인-----------------------------------\n",
    " # 종속변수 확인\n",
    "y_data=df['Survived']\n",
    "\n",
    "\n",
    " # 결측치 확인\n",
    "df.isnull().sum()\n",
    "df.value_counts\n",
    "\n",
    "df=df.fillna(value={'Embarked':'S', 'Age':df['Age'].mean()}) \n",
    "df=df.round()\n",
    "\n",
    "\n",
    "# 데이터 변환------------------------------------\n",
    "# 카테고리형변수 수치화\n",
    "df['Sex']=df['Sex'].map({'male':0, 'female':1}) \n",
    "\n",
    "df['PortS'] = df['Embarked'].apply(lambda x: 1 if x == 'S' else 0)\n",
    "df['PortC'] = df['Embarked'].apply(lambda x: 1 if x == 'C' else 0)\n",
    "\n",
    "# 파생변수 생성\n",
    "df['Family']=df['SibSp']+df['Parch'] "
   ]
  },
  {
   "cell_type": "code",
   "execution_count": 4,
   "id": "8440dd4a-12af-4db1-8190-8efef5913404",
   "metadata": {},
   "outputs": [],
   "source": [
    "# 데이터 정규화--------------------------------\n",
    "\n",
    "df0=df.copy() # 정규화X\n",
    "df1=df.copy() # 정규화(Min-Max)\n",
    "\n",
    "\n",
    "# Min-Max Normalization = (X - MIN) / (MAX-MIN) \n",
    "def Min_Max(x):\n",
    "    min=x.min()\n",
    "    max=x.max()\n",
    "    normal=(x-min)/(max-min)\n",
    "    return normal\n",
    "\n",
    "age1=Min_Max(df['Age'])\n",
    "fare1=Min_Max(df['Fare'])\n",
    "family1=Min_Max(df['Family'])\n",
    "pclass1=Min_Max(df['Pclass'])\n",
    "\n",
    "\n",
    "\n",
    "# 컬럼 수정-----------------------------------\n",
    "df1['age']=age1\n",
    "df1['fare']=fare1\n",
    "df1['family']=family1\n",
    "df1['pclass']=pclass1\n",
    "\n",
    "\n",
    "# 불필요한 변수 삭제\n",
    "df1.drop(columns=['Survived','Name', 'PassengerId', 'Ticket','Cabin','Age','SibSp','Parch','Fare','Embarked','Family'], axis=1, inplace=True)\n",
    "df0.drop(columns=['Survived','Name', 'PassengerId', 'Ticket','Cabin','SibSp','Parch','Embarked'], axis=1, inplace=True)\n",
    "\n",
    "\n",
    "# 컬럼순서 변경\n",
    "df0=df0[['Sex', 'Age', 'Family', 'Fare', 'Pclass', 'PortS','PortC' ]]\n",
    "df1=df1[['Sex', 'age', 'family', 'fare', 'pclass', 'PortS','PortC' ]]\n"
   ]
  },
  {
   "cell_type": "code",
   "execution_count": 5,
   "id": "237b57bd-01e2-47ec-9f3e-dec0964137c9",
   "metadata": {},
   "outputs": [],
   "source": [
    "# 데이터 분할--------------------------------\n",
    "\n",
    "# 종속/독립변수 나누기\n",
    "y_data=y_data\n",
    "x_data=df1\n",
    "\n",
    "y_data=np.array(y_data)\n",
    "x_data=np.array(x_data)\n",
    "\n",
    "\n",
    "\n",
    "# 학습/검증용 나누기\n",
    "size = y_data.shape[0] # 891\n",
    "\n",
    "idx=np.arange(size)    # 일련번호 생성 후 재배열\n",
    "np.random.shuffle(idx) \n",
    "\n",
    "num=int(size*0.7)      # 분리 비율(7:3)\n",
    "\n",
    "x_train = x_data[idx[:num]] \n",
    "x_test = x_data[idx[num:]]\n",
    "y_train = y_data[idx[:num]]\n",
    "y_test = y_data[idx[num:]]\n"
   ]
  },
  {
   "cell_type": "code",
   "execution_count": 6,
   "id": "2d3d9cd1-abb9-4819-97f9-7907862fcee4",
   "metadata": {},
   "outputs": [],
   "source": [
    "import tqdm"
   ]
  },
  {
   "cell_type": "code",
   "execution_count": 7,
   "id": "d07361d7-60d8-47f5-aaae-5a3f936df01f",
   "metadata": {},
   "outputs": [],
   "source": [
    "class Custom_SVM:\n",
    "    def __init__(self, kernel='linear', C=100, max_iter=10000, degree=3, gamma=10):\n",
    "        self.kernel = {'poly'  : lambda x, y: np.dot(x, y.T)**degree,\n",
    "                       'rbf'   : lambda x, y: np.exp(-gamma*np.sum((y - x[:, np.newaxis])**2, axis=-1)),\n",
    "                       'linear': lambda x, y: np.dot(x, y.T)}[kernel]\n",
    "        self.C = C\n",
    "        self.max_iter = max_iter\n",
    "\n",
    "    def restrict_to_square(self, t, v0, u):\n",
    "        t = (np.clip(v0 + t*u, 0, self.C) - v0)[1]/u[1]\n",
    "        return (np.clip(v0 + t*u, 0, self.C) - v0)[0]/u[0]\n",
    "\n",
    "    def fit(self, X, y):\n",
    "        self.X = X.copy()\n",
    "        self.y = y * 2 - 1 # 클래스 범위를 0/1에서 -1/1로 조정\n",
    "        self.lambdas = np.zeros_like(self.y, dtype=float) # 제약 조건 중 0 이상 범위를 만족하는 lambda 생성\n",
    "        self.K = self.kernel(self.X, self.X) * self.y[:, np.newaxis] * self.y # kernel matrix 생성\n",
    "    \n",
    "        for _ in tqdm.tqdm(range(self.max_iter)):\n",
    "            for idxM in range(len(self.lambdas)): # lambda_M 반복\n",
    "                idxL = np.random.randint(0, len(self.lambdas)) # lambda_L 랜덤 선택\n",
    "                Q = self.K[[[idxM, idxM], [idxL, idxL]], [[idxM, idxL], [idxM, idxL]]] # lambda_M 및 Lambda_L에 대한 Kernel matrix(Q) 설정\n",
    "                v0 = self.lambdas[[idxM, idxL]] # v_0 설정\n",
    "                k0 = 1 - np.sum(self.lambdas * self.K[[idxM, idxL]], axis=1) # k_0 설정\n",
    "                u = np.array([-self.y[idxL], self.y[idxM]]) # u 벡터 설정\n",
    "                t_max = np.dot(k0, u) / (np.dot(np.dot(Q, u), u) + 1E-15) # argmax lambda*(t)를 계산하고, lambda_M 및 Lambda_L이 같은 경우에 업데이트를 위하여 작은 상수를 더함\n",
    "                self.lambdas[[idxM, idxL]] = v0 + u * self.restrict_to_square(t_max, v0, u) # Cost를 활용하여 범위를 제한하여 제약 조건을 충족시킴\n",
    "    \n",
    "        idx = np.nonzero(self.lambdas > 1E-15) # select indexes of support vectors\n",
    "        self.b = np.sum((1.0 - np.sum(self.K[idx] * self.lambdas, axis=1)) * self.y[idx]) / len(idx) # eq .(3)\n",
    "  \n",
    "    def predict(self, X):\n",
    "        result = np.sum(self.kernel(X, self.X) * self.y * self.lambdas, axis=1) + self.b # f from eq .(2)\n",
    "        return np.where(result > 0, 1, 0)\n",
    "    \n",
    "    def accuracy(self, y_pred, y_test):\n",
    "        acc = np.array([1 if pred == test else 0 for pred, test in zip(y_pred, y_test)])\n",
    "        return acc.sum() / len(acc)"
   ]
  },
  {
   "cell_type": "code",
   "execution_count": 8,
   "id": "646c0179-00ab-4912-8bb7-b85ea601aefd",
   "metadata": {},
   "outputs": [
    {
     "name": "stderr",
     "output_type": "stream",
     "text": [
      "100%|████████████████████████████████████████████████████████████████████████████| 10000/10000 [08:26<00:00, 19.74it/s]\n"
     ]
    },
    {
     "data": {
      "text/plain": [
       "0.585820895522388"
      ]
     },
     "execution_count": 8,
     "metadata": {},
     "output_type": "execute_result"
    }
   ],
   "source": [
    "model = Custom_SVM()\n",
    "model.fit(x_train, y_train)\n",
    "predict = model.predict(x_test)\n",
    "model.accuracy(predict, y_test)"
   ]
  },
  {
   "cell_type": "code",
   "execution_count": 9,
   "id": "561f3124-4980-4c83-b424-8106130e02a6",
   "metadata": {},
   "outputs": [
    {
     "name": "stderr",
     "output_type": "stream",
     "text": [
      "100%|████████████████████████████████████████████████████████████████████████████| 10000/10000 [08:27<00:00, 19.72it/s]\n"
     ]
    },
    {
     "data": {
      "text/plain": [
       "0.4141791044776119"
      ]
     },
     "execution_count": 9,
     "metadata": {},
     "output_type": "execute_result"
    }
   ],
   "source": [
    "model = Custom_SVM(kernel='rbf')\n",
    "model.fit(x_train, y_train)\n",
    "predict = model.predict(x_test)\n",
    "model.accuracy(predict, y_test)"
   ]
  },
  {
   "cell_type": "code",
   "execution_count": 10,
   "id": "a67dbeae-3ce2-457f-a510-ed3dd804dea1",
   "metadata": {},
   "outputs": [
    {
     "name": "stderr",
     "output_type": "stream",
     "text": [
      "100%|████████████████████████████████████████████████████████████████████████████| 10000/10000 [08:22<00:00, 19.91it/s]\n"
     ]
    },
    {
     "data": {
      "text/plain": [
       "0.4141791044776119"
      ]
     },
     "execution_count": 10,
     "metadata": {},
     "output_type": "execute_result"
    }
   ],
   "source": [
    "model = Custom_SVM(kernel='poly')\n",
    "model.fit(x_train, y_train)\n",
    "predict = model.predict(x_test)\n",
    "model.accuracy(predict, y_test)"
   ]
  },
  {
   "cell_type": "code",
   "execution_count": null,
   "id": "75ce3684-b196-4deb-8042-51157529f3e8",
   "metadata": {},
   "outputs": [],
   "source": []
  }
 ],
 "metadata": {
  "kernelspec": {
   "display_name": "Python 3 (ipykernel)",
   "language": "python",
   "name": "python3"
  },
  "language_info": {
   "codemirror_mode": {
    "name": "ipython",
    "version": 3
   },
   "file_extension": ".py",
   "mimetype": "text/x-python",
   "name": "python",
   "nbconvert_exporter": "python",
   "pygments_lexer": "ipython3",
   "version": "3.8.8"
  }
 },
 "nbformat": 4,
 "nbformat_minor": 5
}
