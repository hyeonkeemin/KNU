{
 "cells": [
  {
   "cell_type": "code",
   "execution_count": 1,
   "id": "78a61115-386a-4104-9e9e-a18b8728035f",
   "metadata": {},
   "outputs": [],
   "source": [
    "def dot_product(x,y):\n",
    "    result = 0\n",
    "    for i in range(len(x)):\n",
    "        result = result + x[i]*y[i]\n",
    "    return result"
   ]
  },
  {
   "cell_type": "code",
   "execution_count": 2,
   "id": "d8dd5b8c-15ce-4ee5-b7d2-74d959e1b74c",
   "metadata": {},
   "outputs": [
    {
     "name": "stdout",
     "output_type": "stream",
     "text": [
      "34\n"
     ]
    }
   ],
   "source": [
    "x = [3,5]\n",
    "y = [8,2]\n",
    "print(dot_product(x,y))"
   ]
  },
  {
   "cell_type": "code",
   "execution_count": 3,
   "id": "0403abd2-91c4-4db9-ae6c-94a49c4615e9",
   "metadata": {},
   "outputs": [
    {
     "name": "stdout",
     "output_type": "stream",
     "text": [
      "34\n"
     ]
    }
   ],
   "source": [
    "import numpy as np\n",
    "\n",
    "x = np.array([3,5])\n",
    "y = np.array([8,2])\n",
    "print(np.dot(x,y))"
   ]
  },
  {
   "cell_type": "code",
   "execution_count": null,
   "id": "769ac900-8a9e-435f-8162-79af4ac5a4da",
   "metadata": {},
   "outputs": [],
   "source": []
  }
 ],
 "metadata": {
  "kernelspec": {
   "display_name": "Python 3 (ipykernel)",
   "language": "python",
   "name": "python3"
  },
  "language_info": {
   "codemirror_mode": {
    "name": "ipython",
    "version": 3
   },
   "file_extension": ".py",
   "mimetype": "text/x-python",
   "name": "python",
   "nbconvert_exporter": "python",
   "pygments_lexer": "ipython3",
   "version": "3.8.8"
  }
 },
 "nbformat": 4,
 "nbformat_minor": 5
}
