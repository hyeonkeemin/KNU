{
 "cells": [
  {
   "cell_type": "code",
   "execution_count": 1,
   "id": "457a5df4-720a-4ef8-af47-7e1580d6cd33",
   "metadata": {},
   "outputs": [],
   "source": [
    "import numpy as np"
   ]
  },
  {
   "cell_type": "code",
   "execution_count": 2,
   "id": "4f425928-0cbb-4353-b050-a4f024ad9d2f",
   "metadata": {},
   "outputs": [],
   "source": [
    "# # Compute the functional margin of an example (x,y) with respect to a hyperplane defined by w and b.\n",
    "# def example_functional_margin(w, b, x, y):\n",
    "#     result = y * (np.dot(w, x) + b)\n",
    "#     return result\n",
    "\n",
    "# # Compute the functional margin of a hyperplane for examples X with labels y.\n",
    "# def functional_margin(w, b, X, y):\n",
    "#     return np.min([example_functional_margin(w, b, x, y[i]) for i, x in enumerate(X)])"
   ]
  },
  {
   "cell_type": "code",
   "execution_count": 3,
   "id": "34992025-869d-41cf-a1ba-32154a6ae3e9",
   "metadata": {},
   "outputs": [],
   "source": [
    "# x = np.array([1, 1])\n",
    "# y = 1\n",
    "\n",
    "# b_1 = 5\n",
    "# w_1 = np.array([2, 1])\n",
    "\n",
    "# w_2 = w_1 * 10\n",
    "# b_2 = b_1 * 10\n",
    "\n",
    "# print(example_functional_margin(w_1, b_1, x, y)) # 8\n",
    "# print(example_functional_margin(w_2, b_2, x, y)) # 80"
   ]
  },
  {
   "cell_type": "code",
   "execution_count": 4,
   "id": "6122b208-050c-4fda-a36e-21857cd6528e",
   "metadata": {},
   "outputs": [],
   "source": [
    "def example_geometric_margin(w, b, x, y):\n",
    "    norm = np.linalg.norm(w)\n",
    "    result = y * (np.dot(w/norm, x) + b/norm)\n",
    "    return result\n",
    "\n",
    "def geometric_margin(w, b, X, y):\n",
    "    return np.min([example_geometric_margin(w, b, x, y[i]) for i, x in enumerate(X)])"
   ]
  },
  {
   "cell_type": "code",
   "execution_count": 5,
   "id": "a0d054b2-5403-4684-b05c-fefdbc2e6d89",
   "metadata": {},
   "outputs": [
    {
     "name": "stdout",
     "output_type": "stream",
     "text": [
      "3.577708763999664\n",
      "3.577708763999664\n"
     ]
    }
   ],
   "source": [
    "x = np.array([1, 1])\n",
    "y = 1\n",
    "\n",
    "b_1 = 5\n",
    "w_1 = np.array([2, 1])\n",
    "\n",
    "w_2 = w_1 * 10\n",
    "b_2 = b_1 * 10\n",
    "\n",
    "print(example_geometric_margin(w_1, b_1, x, y)) # 8\n",
    "print(example_geometric_margin(w_2, b_2, x, y)) # 80"
   ]
  },
  {
   "cell_type": "code",
   "execution_count": 6,
   "id": "1c2f759e-126c-4efd-a9a4-9eb6929c43f6",
   "metadata": {},
   "outputs": [
    {
     "name": "stdout",
     "output_type": "stream",
     "text": [
      "[[ 2  7]\n",
      " [ 8  3]\n",
      " [ 7  5]\n",
      " [ 4  4]\n",
      " [ 4  6]\n",
      " [ 1  3]\n",
      " [ 2  5]\n",
      " [ 8  7]\n",
      " [ 4 10]\n",
      " [ 9  7]\n",
      " [ 7 10]\n",
      " [ 9  6]\n",
      " [ 4  8]\n",
      " [10 10]]\n",
      "[ 1.  1.  1.  1.  1.  1.  1. -1. -1. -1. -1. -1. -1. -1.]\n",
      "0.18569533817705164\n",
      "0.6499336836196807\n"
     ]
    }
   ],
   "source": [
    "# Compare two hyperplanes using the geometrical margin.\n",
    "positive_x = [[2,7],[8,3],[7,5],[4,4],[4,6],[1,3],[2,5]]\n",
    "negative_x = [[8,7],[4,10],[9,7],[7,10],[9,6],[4,8],[10,10]]\n",
    "\n",
    "X = np.vstack((positive_x, negative_x))\n",
    "y = np.hstack((np.ones(len(positive_x)), -1*np.ones(len(negative_x))))\n",
    "w = np.array([-0.4, -1])\n",
    "b = 8\n",
    "\n",
    "print(X)\n",
    "print(y)\n",
    "\n",
    "# change the value of b\n",
    "print(geometric_margin(w, b, X, y)) # 0.185695338177\n",
    "print(geometric_margin(w, 8.5, X, y)) # 0.64993368362"
   ]
  },
  {
   "cell_type": "code",
   "execution_count": 7,
   "id": "9a467348-d901-4372-af89-43629884d83d",
   "metadata": {},
   "outputs": [],
   "source": [
    "from succinctly.datasets import get_dataset, linearly_separable as ls\n",
    "import cvxopt.solvers"
   ]
  },
  {
   "cell_type": "code",
   "execution_count": 8,
   "id": "a2e13457-b35c-49ba-9b2e-6eff17909c32",
   "metadata": {},
   "outputs": [],
   "source": [
    "X, y = get_dataset(ls.get_training_examples)\n",
    "m = X.shape[0]"
   ]
  },
  {
   "cell_type": "code",
   "execution_count": 9,
   "id": "c6ed5a14-567a-4d9a-afac-a95ec1e76916",
   "metadata": {},
   "outputs": [],
   "source": [
    "K = np.array([np.dot(X[i], X[j]) for j in range(m) for i in range(m)]).reshape((m, m))"
   ]
  },
  {
   "cell_type": "code",
   "execution_count": 10,
   "id": "73247afd-da80-4cd2-85b1-6b0a61b8cac9",
   "metadata": {},
   "outputs": [
    {
     "name": "stdout",
     "output_type": "stream",
     "text": [
      "     pcost       dcost       gap    pres   dres\n",
      " 0: -3.9356e+00 -7.2072e+00  4e+01  6e+00  2e+00\n",
      " 1: -5.9831e+00 -4.3032e+00  1e+01  2e+00  6e-01\n",
      " 2: -5.6350e-01 -1.1535e+00  2e+00  1e-01  4e-02\n",
      " 3: -6.2758e-01 -7.4538e-01  1e-01  2e-16  9e-15\n",
      " 4: -7.1507e-01 -7.1641e-01  1e-03  1e-16  1e-14\n",
      " 5: -7.1604e-01 -7.1605e-01  1e-05  2e-16  6e-15\n",
      " 6: -7.1605e-01 -7.1605e-01  1e-07  2e-16  9e-15\n",
      "Optimal solution found.\n"
     ]
    }
   ],
   "source": [
    "P = cvxopt.matrix(np.outer(y, y) * K)\n",
    "q = cvxopt.matrix(-1 * np.ones(m))\n",
    "\n",
    "# Equality constraints\n",
    "A = cvxopt.matrix(y, (1, m))\n",
    "b = cvxopt.matrix(0.0)\n",
    "\n",
    "# Inequality constraints\n",
    "G = cvxopt.matrix(np.diag(-1 * np.ones(m)))\n",
    "h = cvxopt.matrix(np.zeros(m))\n",
    "\n",
    "# Solve the problem\n",
    "solution = cvxopt.solvers.qp(P, q, G, h, A, b)\n",
    "\n",
    "# Lagrange multipliers\n",
    "multipliers = np.ravel(solution['x'])\n",
    "\n",
    "# Support vectors have positive multipliers.\n",
    "has_positive_multiplier = multipliers > 1e-7\n",
    "sv_multipliers = multipliers[has_positive_multiplier]\n",
    "support_vectors = X[has_positive_multiplier]\n",
    "support_vectors_y = y[has_positive_multiplier]"
   ]
  },
  {
   "cell_type": "code",
   "execution_count": 11,
   "id": "038ffd4a-0e37-4ea7-8f9e-c14d23c84fc9",
   "metadata": {},
   "outputs": [],
   "source": [
    "def compute_w(multipliers, X, y):\n",
    "    return np.sum(multipliers[i] * y[i] * X[i] for i in range(len(y)))"
   ]
  },
  {
   "cell_type": "code",
   "execution_count": 12,
   "id": "8541a492-9f00-4a91-865b-5a0757fd14c9",
   "metadata": {},
   "outputs": [
    {
     "name": "stdout",
     "output_type": "stream",
     "text": [
      "[0.44444446 1.11111114]\n",
      "[0.44444453 1.11111128]\n"
     ]
    },
    {
     "name": "stderr",
     "output_type": "stream",
     "text": [
      "C:\\Users\\hyeon\\AppData\\Local\\Temp\\ipykernel_14728\\905609691.py:2: DeprecationWarning: Calling np.sum(generator) is deprecated, and in the future will give a different result. Use np.sum(np.fromiter(generator)) or the python sum builtin instead.\n",
      "  return np.sum(multipliers[i] * y[i] * X[i] for i in range(len(y)))\n"
     ]
    }
   ],
   "source": [
    "w = compute_w(multipliers, X, y)\n",
    "w_from_sv = compute_w(sv_multipliers, support_vectors, support_vectors_y)\n",
    "\n",
    "print(w)\n",
    "print(w_from_sv) "
   ]
  },
  {
   "cell_type": "code",
   "execution_count": 13,
   "id": "9ddf2cf2-9b95-405a-95f7-6059fdb45f77",
   "metadata": {},
   "outputs": [],
   "source": [
    "def compute_b(w, X, y):\n",
    "    return np.sum([y[i] - np.dot(w, X[i]) for i in range(len(X))])/len(X)"
   ]
  },
  {
   "cell_type": "code",
   "execution_count": 14,
   "id": "05b215bd-d0bb-4663-a251-92bab3b8447a",
   "metadata": {},
   "outputs": [],
   "source": [
    "b = compute_b(w, support_vectors, support_vectors_y)"
   ]
  },
  {
   "cell_type": "code",
   "execution_count": 15,
   "id": "3782ce8c-c2f5-49a8-ae3d-46481512c0fc",
   "metadata": {},
   "outputs": [
    {
     "data": {
      "text/plain": [
       "-9.666666925153795"
      ]
     },
     "execution_count": 15,
     "metadata": {},
     "output_type": "execute_result"
    }
   ],
   "source": [
    "b"
   ]
  },
  {
   "cell_type": "code",
   "execution_count": 16,
   "id": "16c2b4b3-6cf5-45c8-810e-dd1cb604d254",
   "metadata": {},
   "outputs": [],
   "source": [
    "w = np.array([0.4, 1])\n",
    "b = -10\n",
    "x = np.array([6, 8])\n",
    "y = -1"
   ]
  },
  {
   "cell_type": "code",
   "execution_count": 17,
   "id": "02a5da98-1a7c-4528-bdb0-be3347d77834",
   "metadata": {},
   "outputs": [],
   "source": [
    "def constraint(w, b, x, y):\n",
    "    return y * (np.dot(w, x) + b)"
   ]
  },
  {
   "cell_type": "code",
   "execution_count": 18,
   "id": "b6f0ddbb-ed51-4010-9bf5-776288e394c0",
   "metadata": {},
   "outputs": [],
   "source": [
    "def hard_constraint_is_satisfied(w, b, x, y):\n",
    "    return constraint(w, b, x, y) >= 1\n",
    "\n",
    "def soft_constraint_is_satisfied(w, b, x, y, zeta):\n",
    "    return constraint(w, b, x, y) >= 1 - zeta"
   ]
  },
  {
   "cell_type": "code",
   "execution_count": 19,
   "id": "a33c7ca1-6eb6-4531-a849-0cd74e6662fa",
   "metadata": {},
   "outputs": [
    {
     "name": "stdout",
     "output_type": "stream",
     "text": [
      "False\n",
      "True\n"
     ]
    }
   ],
   "source": [
    "# While the constraint is not satisfied for the example (6,8).\n",
    "print(hard_constraint_is_satisfied(w, b, x, y)) # False\n",
    "\n",
    "# We can use zeta = 2 and satisfy the soft constraint.\n",
    "print(soft_constraint_is_satisfied(w, b, x, y, zeta=2)) # True"
   ]
  },
  {
   "cell_type": "code",
   "execution_count": 20,
   "id": "b208033c-49b6-4408-a17f-db4839cad13f",
   "metadata": {},
   "outputs": [
    {
     "data": {
      "text/plain": [
       "-0.40000000000000036"
      ]
     },
     "execution_count": 20,
     "metadata": {},
     "output_type": "execute_result"
    }
   ],
   "source": [
    "constraint(w, b, x, y)"
   ]
  },
  {
   "cell_type": "code",
   "execution_count": 21,
   "id": "4f5142d0-165d-401f-8c57-bc857dc8578f",
   "metadata": {},
   "outputs": [
    {
     "name": "stdout",
     "output_type": "stream",
     "text": [
      "True\n",
      "True\n"
     ]
    }
   ],
   "source": [
    "# We can pick a huge zeta for every point to always satisfy the soft constraint.\n",
    "print(soft_constraint_is_satisfied(w, b, x, y, zeta=10)) # True\n",
    "print(soft_constraint_is_satisfied(w, b, x, y, zeta=1000)) # True"
   ]
  },
  {
   "cell_type": "code",
   "execution_count": 22,
   "id": "cbdd7d2c-cbb0-4b23-b8b7-7d5b27cc8c30",
   "metadata": {},
   "outputs": [],
   "source": [
    "# Transform a two-dimensional vector x into a three-dimensional vector.\n",
    "def transform(x):\n",
    "    return [x[0]**2, np.sqrt(2)*x[0]*x[1], x[1]**2]"
   ]
  },
  {
   "cell_type": "code",
   "execution_count": 23,
   "id": "707813cc-9429-45da-a8a6-e44d7c431c5b",
   "metadata": {},
   "outputs": [],
   "source": [
    "def polynomial_kernel(a, b, degree, constant=0):\n",
    "    result = sum([a[i] * b[i] for i in range(len(a))]) + constant\n",
    "    return pow(result, degree)"
   ]
  },
  {
   "cell_type": "code",
   "execution_count": 24,
   "id": "450209de-f791-400d-9ebb-26e6febca48f",
   "metadata": {},
   "outputs": [
    {
     "name": "stdout",
     "output_type": "stream",
     "text": [
      "8100\n"
     ]
    }
   ],
   "source": [
    "x1 = [3,6]\n",
    "x2 = [10,10]\n",
    "# We do not transform the data.\n",
    "print(polynomial_kernel(x1, x2, degree=2)) # 8100\n"
   ]
  },
  {
   "cell_type": "code",
   "execution_count": 25,
   "id": "3aeb5f69-3185-4e7e-8522-9a144bdb27d0",
   "metadata": {},
   "outputs": [],
   "source": [
    "def kernel(x1, x2):\n",
    "    return np.dot(x1, x2.T)\n",
    "\n",
    "def objective_function_to_minimize(X, y, a, kernel):\n",
    "    m, n = np.shape(X)\n",
    "    return 1 / 2 * np.sum([a[i] * a[j] * y[i] * y[j]* kernel(X[i, :], X[j, :]) for j in range(m) for i in range(m)]) - np.sum([a[i] for i in range(m)])"
   ]
  },
  {
   "cell_type": "code",
   "execution_count": 26,
   "id": "92398845-46eb-4fa8-b2f4-8245c88a803d",
   "metadata": {},
   "outputs": [],
   "source": [
    "# def get_non_bound_indexes(self):\n",
    "#     return np.where(np.logical_and(self.alphas > 0, self.alphas < self.C))[0]"
   ]
  },
  {
   "cell_type": "code",
   "execution_count": 27,
   "id": "849db817-55f2-4f65-8e8d-fa93cb276624",
   "metadata": {},
   "outputs": [],
   "source": [
    "# # First heuristic: loop over examples where alpha is not 0 and not C they are the most likely to violate the KKT conditions (the non-bound subset).\n",
    "# def first_heuristic(self):\n",
    "#     num_changed = 0\n",
    "#     non_bound_idx = self.get_non_bound_indexes()\n",
    "#     for i in non_bound_idx:\n",
    "#         num_changed += self.examine_example(i)\n",
    "#     return num_changed"
   ]
  },
  {
   "cell_type": "code",
   "execution_count": null,
   "id": "2d29def7-d5bd-4f16-ac73-acd5ef3cc56d",
   "metadata": {},
   "outputs": [],
   "source": []
  }
 ],
 "metadata": {
  "kernelspec": {
   "display_name": "Python 3 (ipykernel)",
   "language": "python",
   "name": "python3"
  },
  "language_info": {
   "codemirror_mode": {
    "name": "ipython",
    "version": 3
   },
   "file_extension": ".py",
   "mimetype": "text/x-python",
   "name": "python",
   "nbconvert_exporter": "python",
   "pygments_lexer": "ipython3",
   "version": "3.8.12"
  }
 },
 "nbformat": 4,
 "nbformat_minor": 5
}
