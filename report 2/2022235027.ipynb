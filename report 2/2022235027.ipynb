{
 "cells": [
  {
   "cell_type": "markdown",
   "id": "cb80e602-e1ad-488f-8617-8925b138c3de",
   "metadata": {},
   "source": [
    "# 과제\n",
    "### 2022235027 민현기\n",
    "\n",
    "\n",
    "- 답변의 제출은 반드시 \"학번.pdf\"로 제출하고, 추가적으로 분석에 활용된 python code를 원본형식으로 제출하라.\n",
    "    - (코드 파일에 # 이나 Jupyternote book 기능을 이용해 설명만 추가하는 형식의 제출은 정식 과제 점수로 인정하지 않음.)"
   ]
  },
  {
   "cell_type": "code",
   "execution_count": 1,
   "id": "dced4b84-06e5-4600-82f6-43b00466ee92",
   "metadata": {},
   "outputs": [],
   "source": [
    "import requests\n",
    "from urllib import parse"
   ]
  },
  {
   "cell_type": "code",
   "execution_count": 2,
   "id": "6aa4d531-0255-4b95-889a-2da04ac4f376",
   "metadata": {},
   "outputs": [],
   "source": [
    "def matzip_api(coordinate):\n",
    "    address = 'https://www.daegufood.go.kr/kor/api/tasty.html?mode=json&addr='\n",
    "    coordinate = parse.quote(coordinate)\n",
    "    response = requests.get(address+coordinate)\n",
    "    \n",
    "    return response.json(strict=False)"
   ]
  },
  {
   "cell_type": "code",
   "execution_count": 3,
   "id": "bfd9ab19-6351-4e3f-b9b1-8e703530a68f",
   "metadata": {},
   "outputs": [],
   "source": [
    "location = ['중구', '동구', '서구', '남구', '북구', '수성구', '달서구', '달성군']"
   ]
  },
  {
   "cell_type": "code",
   "execution_count": 4,
   "id": "d38bdbe1-44e8-4d1a-97fa-ddc6457abe29",
   "metadata": {},
   "outputs": [],
   "source": [
    "daegu_matzip = {i:matzip_api(i) for i in location}"
   ]
  },
  {
   "cell_type": "markdown",
   "id": "b31a3320-fce6-4a95-8f1b-ccfcacfa59a7",
   "metadata": {},
   "source": [
    "### 1. 대구의 7개 구(중구, 동구, 서구, 남구, 북구, 수성구, 달서구)과 1개 군(달성군)의 맛집은 각각 몇 개인가?"
   ]
  },
  {
   "cell_type": "code",
   "execution_count": 5,
   "id": "64c15ad7-06e8-42a0-bd41-4ef6d337e622",
   "metadata": {},
   "outputs": [
    {
     "name": "stdout",
     "output_type": "stream",
     "text": [
      "중구: 181 개\n",
      "동구: 137 개\n",
      "서구: 63 개\n",
      "남구: 57 개\n",
      "북구: 95 개\n",
      "수성구: 131 개\n",
      "달서구: 168 개\n",
      "달성군: 93 개\n"
     ]
    }
   ],
   "source": [
    "for i in daegu_matzip:\n",
    "    print(f'{i}: {daegu_matzip[i][\"total\"]} 개')"
   ]
  },
  {
   "cell_type": "markdown",
   "id": "11bef548-6667-450b-b9e8-f3b896115383",
   "metadata": {},
   "source": [
    "### 2. 오픈 api에 포함된 \"설명\"(SMPL_DESC)을 분석하여, 맛집 설명에서 가장 유의미하게 많이 등장하는 5개 단어를 제시하라."
   ]
  },
  {
   "cell_type": "code",
   "execution_count": 6,
   "id": "5a2ad2ec-a60d-4e58-afbc-0e43f4b363ab",
   "metadata": {},
   "outputs": [],
   "source": [
    "import numpy as np\n",
    "import pandas as pd\n",
    "import re\n",
    "from konlpy.tag import Okt\n",
    "import gensim\n",
    "from gensim import corpora"
   ]
  },
  {
   "cell_type": "code",
   "execution_count": 7,
   "id": "55dfb929-c3d4-4b4d-a0ee-da411274f3df",
   "metadata": {},
   "outputs": [],
   "source": [
    "def make_df(location):\n",
    "    df = []\n",
    "    for i in location:\n",
    "        local_df = pd.DataFrame(daegu_matzip[i]['data'])\n",
    "        local_df['LOCATION'] = i\n",
    "        df.append(local_df)\n",
    "        \n",
    "    return pd.concat(df).reset_index(drop=True)"
   ]
  },
  {
   "cell_type": "code",
   "execution_count": 8,
   "id": "6fcee266-76b9-46bd-8513-431b7b334711",
   "metadata": {},
   "outputs": [],
   "source": [
    "df = make_df(location)"
   ]
  },
  {
   "cell_type": "code",
   "execution_count": 9,
   "id": "be7ac8a6-889d-4bf4-96c3-a40973779784",
   "metadata": {},
   "outputs": [],
   "source": [
    "class CustomLDA:\n",
    "    def __init__(self, pandas_text_column, stop_words, num_topics=1, num_words=5):\n",
    "        clean = re.compile(\"[^ㄱ-힣0-9 %]\")\n",
    "        self.texts = pandas_text_column.apply(lambda x: clean.sub('', str(x)))\n",
    "        self.tagger = Okt()\n",
    "        self.stop_words = stop_words\n",
    "        self.num_topics = num_topics\n",
    "        self.num_words = num_words\n",
    "        \n",
    "    def nouns_tokenizer(self, text):\n",
    "        word_token = self.tagger.nouns(text)\n",
    "        self.result = [word for word in word_token if word not in self.stop_words]\n",
    "        return self.result\n",
    "    \n",
    "    def LDA(self):\n",
    "        nouns_tokenizer = self.nouns_tokenizer\n",
    "        texts = self.texts.apply(nouns_tokenizer)\n",
    "        dictionary = corpora.Dictionary(texts)\n",
    "        corpus = [dictionary.doc2bow(text) for text in texts]\n",
    "        NUM_TOPICS = self.num_topics\n",
    "        ldamodel = gensim.models.ldamodel.LdaModel(corpus, num_topics = NUM_TOPICS, id2word=dictionary, passes=15)\n",
    "        topics = ldamodel.print_topics(num_words=self.num_words)\n",
    "        return topics"
   ]
  },
  {
   "cell_type": "markdown",
   "id": "e2266bf8-7625-47bc-8adb-d25c56f47a10",
   "metadata": {},
   "source": [
    "- 처음엔 불용어를 설정하지 않고, 결과를 돌려보며 리스트에 나오는 불용어를 하나씩 제거하며 최종적으로 5개의 단어를 선정함"
   ]
  },
  {
   "cell_type": "code",
   "execution_count": 10,
   "id": "07861eab-840b-4744-97da-782247fb523d",
   "metadata": {},
   "outputs": [
    {
     "data": {
      "text/plain": [
       "[(0, '0.043*\"전문점\" + 0.012*\"맛\" + 0.010*\"위치\" + 0.008*\"전통\" + 0.008*\"직접\"')]"
      ]
     },
     "execution_count": 10,
     "metadata": {},
     "output_type": "execute_result"
    }
   ],
   "source": [
    "stop_words = ['수', '요리', '곳', '등', '음식점', '한우', '사용', '음식']\n",
    "CustomLDA(pandas_text_column=df['SMPL_DESC'], stop_words=stop_words, num_topics=1).LDA()"
   ]
  },
  {
   "cell_type": "markdown",
   "id": "bb5893b4-676a-498a-b897-06335ef7f2fe",
   "metadata": {},
   "source": [
    "### 3. 오픈 api에 포함된 \"메뉴\"(MNU)를 분석하여, 대구 맛집들이 제공하는 가장 흔한 메뉴 3개를 제시하라. 그리고 이들의 평균 가격 또한 함께 제시하라."
   ]
  },
  {
   "cell_type": "code",
   "execution_count": 11,
   "id": "5b5fa5ae-2cd3-4c05-942a-92476d0bdf20",
   "metadata": {},
   "outputs": [],
   "source": [
    "def make_menu_df(text):\n",
    "    text = text.strip('\\r\\n').split('\\r\\n')\n",
    "    \n",
    "    pattern_price = re.compile('[0-9,[0-9]+(?=원)')\n",
    "    pattern_menu = re.compile('^(.*?)(?= \\d+,)')\n",
    "    \n",
    "    menu = pd.Series([pattern_menu.findall(i) for i in text]).apply(lambda x: ''.join(x) if x else '없음')\n",
    "    # menu = pd.Series(text).apply(CustomLDA(pd.Series(text[0]), stop_words).nouns_tokenizer).apply(lambda x: ''.join(x))\n",
    "    price = pd.Series([pattern_price.findall(i) for i in text]).apply(lambda x: int(x[0].replace(',', '')) if x else np.nan)\n",
    "    \n",
    "    return pd.DataFrame(zip(menu, price), columns=['품목', '가격'])"
   ]
  },
  {
   "cell_type": "code",
   "execution_count": 12,
   "id": "c7a35a85-c154-46c7-8747-1fc6e9846e3b",
   "metadata": {},
   "outputs": [],
   "source": [
    "def menu_concat(df):\n",
    "    concat_list_df = [make_menu_df(df['MNU'][i]) for i in range(len(df['MNU']))]\n",
    "    return pd.concat(concat_list_df).reset_index(drop=True), concat_list_df"
   ]
  },
  {
   "cell_type": "code",
   "execution_count": 13,
   "id": "81b3a72d-63f9-41bd-b145-420359597401",
   "metadata": {},
   "outputs": [],
   "source": [
    "menu_df, store_df = menu_concat(df)"
   ]
  },
  {
   "cell_type": "code",
   "execution_count": 14,
   "id": "0e8f0313-d76f-4808-80a0-a79fc624bf4c",
   "metadata": {},
   "outputs": [
    {
     "data": {
      "text/plain": [
       "[(0, '0.016*\"한우\" + 0.016*\"불고기\" + 0.013*\"정식\"')]"
      ]
     },
     "execution_count": 14,
     "metadata": {},
     "output_type": "execute_result"
    }
   ],
   "source": [
    "stop_words_menu = ['']\n",
    "CustomLDA(menu_df['품목'], stop_words=stop_words_menu, num_topics=1, num_words=3).LDA()"
   ]
  },
  {
   "cell_type": "code",
   "execution_count": 15,
   "id": "9e9a2646-35f5-4c2b-934e-2e7ea71e9fc9",
   "metadata": {},
   "outputs": [
    {
     "data": {
      "text/html": [
       "<div>\n",
       "<style scoped>\n",
       "    .dataframe tbody tr th:only-of-type {\n",
       "        vertical-align: middle;\n",
       "    }\n",
       "\n",
       "    .dataframe tbody tr th {\n",
       "        vertical-align: top;\n",
       "    }\n",
       "\n",
       "    .dataframe thead th {\n",
       "        text-align: right;\n",
       "    }\n",
       "</style>\n",
       "<table border=\"1\" class=\"dataframe\">\n",
       "  <thead>\n",
       "    <tr style=\"text-align: right;\">\n",
       "      <th></th>\n",
       "      <th>품목</th>\n",
       "      <th>가격</th>\n",
       "    </tr>\n",
       "  </thead>\n",
       "  <tbody>\n",
       "    <tr>\n",
       "      <th>14</th>\n",
       "      <td>디너 한우 채끝등심 코스</td>\n",
       "      <td>75000.0</td>\n",
       "    </tr>\n",
       "    <tr>\n",
       "      <th>198</th>\n",
       "      <td>한우 불고기정식</td>\n",
       "      <td>11000.0</td>\n",
       "    </tr>\n",
       "    <tr>\n",
       "      <th>199</th>\n",
       "      <td>한우 갈비탕</td>\n",
       "      <td>13000.0</td>\n",
       "    </tr>\n",
       "    <tr>\n",
       "      <th>200</th>\n",
       "      <td>한우 갈비찜정식</td>\n",
       "      <td>19000.0</td>\n",
       "    </tr>\n",
       "    <tr>\n",
       "      <th>203</th>\n",
       "      <td>한우한마리(300g)</td>\n",
       "      <td>45000.0</td>\n",
       "    </tr>\n",
       "    <tr>\n",
       "      <th>...</th>\n",
       "      <td>...</td>\n",
       "      <td>...</td>\n",
       "    </tr>\n",
       "    <tr>\n",
       "      <th>6351</th>\n",
       "      <td>한우갈비살(100g)</td>\n",
       "      <td>17000.0</td>\n",
       "    </tr>\n",
       "    <tr>\n",
       "      <th>6528</th>\n",
       "      <td>한우모듬세트(1인분 100g)</td>\n",
       "      <td>5800.0</td>\n",
       "    </tr>\n",
       "    <tr>\n",
       "      <th>6531</th>\n",
       "      <td>한우 토시살(1인분 100g)</td>\n",
       "      <td>13500.0</td>\n",
       "    </tr>\n",
       "    <tr>\n",
       "      <th>6532</th>\n",
       "      <td>한우 안창살(1인분 100g)</td>\n",
       "      <td>13500.0</td>\n",
       "    </tr>\n",
       "    <tr>\n",
       "      <th>6573</th>\n",
       "      <td>순한우우거지찌개</td>\n",
       "      <td>11000.0</td>\n",
       "    </tr>\n",
       "  </tbody>\n",
       "</table>\n",
       "<p>309 rows × 2 columns</p>\n",
       "</div>"
      ],
      "text/plain": [
       "                    품목       가격\n",
       "14       디너 한우 채끝등심 코스  75000.0\n",
       "198           한우 불고기정식  11000.0\n",
       "199             한우 갈비탕  13000.0\n",
       "200           한우 갈비찜정식  19000.0\n",
       "203        한우한마리(300g)  45000.0\n",
       "...                ...      ...\n",
       "6351       한우갈비살(100g)  17000.0\n",
       "6528  한우모듬세트(1인분 100g)   5800.0\n",
       "6531  한우 토시살(1인분 100g)  13500.0\n",
       "6532  한우 안창살(1인분 100g)  13500.0\n",
       "6573          순한우우거지찌개  11000.0\n",
       "\n",
       "[309 rows x 2 columns]"
      ]
     },
     "execution_count": 15,
     "metadata": {},
     "output_type": "execute_result"
    }
   ],
   "source": [
    "menu_df[menu_df['품목'].str.contains('한우')]"
   ]
  },
  {
   "cell_type": "code",
   "execution_count": 16,
   "id": "b4a1f987-e504-4f32-9df7-3389d8ae7e5d",
   "metadata": {},
   "outputs": [
    {
     "data": {
      "text/html": [
       "<div>\n",
       "<style scoped>\n",
       "    .dataframe tbody tr th:only-of-type {\n",
       "        vertical-align: middle;\n",
       "    }\n",
       "\n",
       "    .dataframe tbody tr th {\n",
       "        vertical-align: top;\n",
       "    }\n",
       "\n",
       "    .dataframe thead th {\n",
       "        text-align: right;\n",
       "    }\n",
       "</style>\n",
       "<table border=\"1\" class=\"dataframe\">\n",
       "  <thead>\n",
       "    <tr style=\"text-align: right;\">\n",
       "      <th></th>\n",
       "      <th>품목</th>\n",
       "      <th>가격</th>\n",
       "    </tr>\n",
       "  </thead>\n",
       "  <tbody>\n",
       "    <tr>\n",
       "      <th>70</th>\n",
       "      <td>닭불고기</td>\n",
       "      <td>17000.0</td>\n",
       "    </tr>\n",
       "    <tr>\n",
       "      <th>126</th>\n",
       "      <td>불고기퀘사디아</td>\n",
       "      <td>14900.0</td>\n",
       "    </tr>\n",
       "    <tr>\n",
       "      <th>198</th>\n",
       "      <td>한우 불고기정식</td>\n",
       "      <td>11000.0</td>\n",
       "    </tr>\n",
       "    <tr>\n",
       "      <th>222</th>\n",
       "      <td>오리불고기</td>\n",
       "      <td>25000.0</td>\n",
       "    </tr>\n",
       "    <tr>\n",
       "      <th>276</th>\n",
       "      <td>은복불고기(1인분)</td>\n",
       "      <td>13000.0</td>\n",
       "    </tr>\n",
       "    <tr>\n",
       "      <th>...</th>\n",
       "      <td>...</td>\n",
       "      <td>...</td>\n",
       "    </tr>\n",
       "    <tr>\n",
       "      <th>6554</th>\n",
       "      <td>버섯불고기(1인분)</td>\n",
       "      <td>11000.0</td>\n",
       "    </tr>\n",
       "    <tr>\n",
       "      <th>6580</th>\n",
       "      <td>청둥오리불고기</td>\n",
       "      <td>40000.0</td>\n",
       "    </tr>\n",
       "    <tr>\n",
       "      <th>6596</th>\n",
       "      <td>메기불고기</td>\n",
       "      <td>40000.0</td>\n",
       "    </tr>\n",
       "    <tr>\n",
       "      <th>6608</th>\n",
       "      <td>흑염소 돌판불고기(2인분)</td>\n",
       "      <td>40000.0</td>\n",
       "    </tr>\n",
       "    <tr>\n",
       "      <th>6612</th>\n",
       "      <td>오리백숙불고기</td>\n",
       "      <td>45000.0</td>\n",
       "    </tr>\n",
       "  </tbody>\n",
       "</table>\n",
       "<p>242 rows × 2 columns</p>\n",
       "</div>"
      ],
      "text/plain": [
       "                  품목       가격\n",
       "70              닭불고기  17000.0\n",
       "126          불고기퀘사디아  14900.0\n",
       "198         한우 불고기정식  11000.0\n",
       "222            오리불고기  25000.0\n",
       "276       은복불고기(1인분)  13000.0\n",
       "...              ...      ...\n",
       "6554      버섯불고기(1인분)  11000.0\n",
       "6580         청둥오리불고기  40000.0\n",
       "6596           메기불고기  40000.0\n",
       "6608  흑염소 돌판불고기(2인분)  40000.0\n",
       "6612         오리백숙불고기  45000.0\n",
       "\n",
       "[242 rows x 2 columns]"
      ]
     },
     "execution_count": 16,
     "metadata": {},
     "output_type": "execute_result"
    }
   ],
   "source": [
    "menu_df[menu_df['품목'].str.contains('불고기')]"
   ]
  },
  {
   "cell_type": "code",
   "execution_count": 17,
   "id": "eb3bcd1b-2e0d-4074-80c7-6db7b4a9ec07",
   "metadata": {},
   "outputs": [
    {
     "data": {
      "text/html": [
       "<div>\n",
       "<style scoped>\n",
       "    .dataframe tbody tr th:only-of-type {\n",
       "        vertical-align: middle;\n",
       "    }\n",
       "\n",
       "    .dataframe tbody tr th {\n",
       "        vertical-align: top;\n",
       "    }\n",
       "\n",
       "    .dataframe thead th {\n",
       "        text-align: right;\n",
       "    }\n",
       "</style>\n",
       "<table border=\"1\" class=\"dataframe\">\n",
       "  <thead>\n",
       "    <tr style=\"text-align: right;\">\n",
       "      <th></th>\n",
       "      <th>품목</th>\n",
       "      <th>가격</th>\n",
       "    </tr>\n",
       "  </thead>\n",
       "  <tbody>\n",
       "    <tr>\n",
       "      <th>40</th>\n",
       "      <td>정담정식</td>\n",
       "      <td>13000.0</td>\n",
       "    </tr>\n",
       "    <tr>\n",
       "      <th>139</th>\n",
       "      <td>정식</td>\n",
       "      <td>6000.0</td>\n",
       "    </tr>\n",
       "    <tr>\n",
       "      <th>198</th>\n",
       "      <td>한우 불고기정식</td>\n",
       "      <td>11000.0</td>\n",
       "    </tr>\n",
       "    <tr>\n",
       "      <th>200</th>\n",
       "      <td>한우 갈비찜정식</td>\n",
       "      <td>19000.0</td>\n",
       "    </tr>\n",
       "    <tr>\n",
       "      <th>281</th>\n",
       "      <td>특선연요리정식(1인)</td>\n",
       "      <td>20000.0</td>\n",
       "    </tr>\n",
       "    <tr>\n",
       "      <th>...</th>\n",
       "      <td>...</td>\n",
       "      <td>...</td>\n",
       "    </tr>\n",
       "    <tr>\n",
       "      <th>6341</th>\n",
       "      <td>돈까스정식</td>\n",
       "      <td>11900.0</td>\n",
       "    </tr>\n",
       "    <tr>\n",
       "      <th>6344</th>\n",
       "      <td>어린이정식</td>\n",
       "      <td>6900.0</td>\n",
       "    </tr>\n",
       "    <tr>\n",
       "      <th>6494</th>\n",
       "      <td>정강희특정식</td>\n",
       "      <td>15000.0</td>\n",
       "    </tr>\n",
       "    <tr>\n",
       "      <th>6515</th>\n",
       "      <td>고등어정식(2인이상)</td>\n",
       "      <td>7000.0</td>\n",
       "    </tr>\n",
       "    <tr>\n",
       "      <th>6582</th>\n",
       "      <td>연잎밥 장아찌정식</td>\n",
       "      <td>15000.0</td>\n",
       "    </tr>\n",
       "  </tbody>\n",
       "</table>\n",
       "<p>252 rows × 2 columns</p>\n",
       "</div>"
      ],
      "text/plain": [
       "               품목       가격\n",
       "40           정담정식  13000.0\n",
       "139            정식   6000.0\n",
       "198      한우 불고기정식  11000.0\n",
       "200      한우 갈비찜정식  19000.0\n",
       "281   특선연요리정식(1인)  20000.0\n",
       "...           ...      ...\n",
       "6341        돈까스정식  11900.0\n",
       "6344        어린이정식   6900.0\n",
       "6494       정강희특정식  15000.0\n",
       "6515  고등어정식(2인이상)   7000.0\n",
       "6582    연잎밥 장아찌정식  15000.0\n",
       "\n",
       "[252 rows x 2 columns]"
      ]
     },
     "execution_count": 17,
     "metadata": {},
     "output_type": "execute_result"
    }
   ],
   "source": [
    "menu_df[menu_df['품목'].str.contains('정식')]"
   ]
  },
  {
   "cell_type": "code",
   "execution_count": 18,
   "id": "bcf1a59e-d2ef-4b79-8333-fd864c84da94",
   "metadata": {},
   "outputs": [
    {
     "name": "stdout",
     "output_type": "stream",
     "text": [
      "한우 평균 가격: 22697 원\n",
      "불고기 평균 가격: 17207 원\n",
      "정식 평균 가격: 17028 원\n"
     ]
    }
   ],
   "source": [
    "select_menu = ['한우', '불고기', '정식']\n",
    "for menu in select_menu:\n",
    "    price = menu_df[menu_df['품목'].str.contains(menu)]['가격'].mean()\n",
    "    print(f\"{menu} 평균 가격: {round(price)} 원\")"
   ]
  },
  {
   "cell_type": "markdown",
   "id": "cc2f162a-0630-45dc-afb1-264328da71aa",
   "metadata": {},
   "source": [
    "### 4. 본인이 제시한 2번, 3번 결과에 부합하는 맛집을 최종적으로 최대 3곳 선정하여 제시하라. (논리적 근거를 명확히 밝히라.)"
   ]
  },
  {
   "cell_type": "markdown",
   "id": "e0bcb89a-707a-4a1b-a625-8f5833f49aaf",
   "metadata": {},
   "source": [
    "- 맛집을 선정하기 위한 가정과 적용방식\n",
    "    - 가정 \n",
    "        - 음식 가격이 비싼만큼 맛이 뛰어나 사람들이 좋아하고, 가격이 싼 만큼 가성비가 뛰어나 사람들이 좋아한다.\n",
    "        - 3번 문제의 결과는 사람들의 선호도가 반영된 결과이다(사람들은 `한우, 불고기, 정식`을 특히 선호한다).\n",
    "        - 식당 메뉴가 다양할수록 사람들이 좋아할만한 음식이 존재할 확률이 높다.\n",
    "    - 가정에 대한 가중치 적용\n",
    "        - 식당 메뉴 평균 가격이 전체 가게 평균에서 높거나 낮은 경우 가중치 부여\n",
    "        - 3가지 음식(한우, 불고기, 정식)의 요소가 포함되는 메뉴를 가진 식당의 경우 각각 가중치 부여\n",
    "            - 특히, 맛있는(비싼)음식이 더 가중치를 줄 수 있도록, 3가지 음식 가격의 합계에서 각 음식의 가격의 비율만큼의 가중치를 추가(한 메뉴에 중복된 경우 가장 큰 것을 적용)\n",
    "    - 계산식\n",
    "        - $$|log{(0.1+\\frac{개별식당카테고리별가격점수^*}{카테고리별전체식당평균가격}})|$$\n",
    "            - *개별식당카테고리별가격점수: 식당 개별 메뉴에 대한 가중치를 계산 후의 평균 가격\n",
    "                1) 전체식당평균가격보다 높은경우의 개별음식 가중치: 한우:40%, 불고기:30%, 정식:30% 가격 추가\n",
    "                2) 전체식당평균가격보다 낮은경우의 개별음식 가중치: 한우:30%, 불고기:20%, 정식:20% 가격 할인(log함수가 값이 작을수록 급격히 커지는 것을 고려하여 조정)"
   ]
  },
  {
   "cell_type": "code",
   "execution_count": 19,
   "id": "2343f31d-b840-45b6-9eaf-760ced12de41",
   "metadata": {},
   "outputs": [],
   "source": [
    "price_all = [store_df[i]['가격'].mean() for i in range(len(store_df))]\n",
    "price_all_mean = np.nanmean(price_all)"
   ]
  },
  {
   "cell_type": "code",
   "execution_count": 20,
   "id": "bce413ac-d193-4639-b73f-9e398e9b08a2",
   "metadata": {},
   "outputs": [
    {
     "data": {
      "text/html": [
       "<div>\n",
       "<style scoped>\n",
       "    .dataframe tbody tr th:only-of-type {\n",
       "        vertical-align: middle;\n",
       "    }\n",
       "\n",
       "    .dataframe tbody tr th {\n",
       "        vertical-align: top;\n",
       "    }\n",
       "\n",
       "    .dataframe thead th {\n",
       "        text-align: right;\n",
       "    }\n",
       "</style>\n",
       "<table border=\"1\" class=\"dataframe\">\n",
       "  <thead>\n",
       "    <tr style=\"text-align: right;\">\n",
       "      <th></th>\n",
       "      <th>품목</th>\n",
       "      <th>가격</th>\n",
       "    </tr>\n",
       "  </thead>\n",
       "  <tbody>\n",
       "    <tr>\n",
       "      <th>0</th>\n",
       "      <td>복어매운탕</td>\n",
       "      <td>9000</td>\n",
       "    </tr>\n",
       "    <tr>\n",
       "      <th>1</th>\n",
       "      <td>복어지리</td>\n",
       "      <td>9000</td>\n",
       "    </tr>\n",
       "    <tr>\n",
       "      <th>2</th>\n",
       "      <td>복어수육</td>\n",
       "      <td>45000</td>\n",
       "    </tr>\n",
       "    <tr>\n",
       "      <th>3</th>\n",
       "      <td>모듬회</td>\n",
       "      <td>20000</td>\n",
       "    </tr>\n",
       "    <tr>\n",
       "      <th>4</th>\n",
       "      <td>껍질무침</td>\n",
       "      <td>15000</td>\n",
       "    </tr>\n",
       "  </tbody>\n",
       "</table>\n",
       "</div>"
      ],
      "text/plain": [
       "      품목     가격\n",
       "0  복어매운탕   9000\n",
       "1   복어지리   9000\n",
       "2   복어수육  45000\n",
       "3    모듬회  20000\n",
       "4   껍질무침  15000"
      ]
     },
     "execution_count": 20,
     "metadata": {},
     "output_type": "execute_result"
    }
   ],
   "source": [
    "store_df[0]"
   ]
  },
  {
   "cell_type": "code",
   "execution_count": 21,
   "id": "f670835e-10f9-4b24-9fc6-4cb0fce74bee",
   "metadata": {},
   "outputs": [
    {
     "data": {
      "text/plain": [
       "array(['한식', '양식', '세계요리', '일식', '중식', '디저트/베이커리', '전통차/커피전문점', '특별한 술집',\n",
       "       '퓨전/뷔페'], dtype=object)"
      ]
     },
     "execution_count": 21,
     "metadata": {},
     "output_type": "execute_result"
    }
   ],
   "source": [
    "df['FD_CS'].unique()"
   ]
  },
  {
   "cell_type": "code",
   "execution_count": 22,
   "id": "3fa4a1af-1d15-476c-9cfe-ba5b1542c6d5",
   "metadata": {},
   "outputs": [],
   "source": [
    "### 카테고리별전체식당평균가격\n",
    "category_dict = {'한식': [],\n",
    "                '양식': [],\n",
    "                '세계요리': [],\n",
    "                '일식': [],\n",
    "                '중식': [],\n",
    "                '디저트/베이커리': [],\n",
    "                '전통차/커피전문점': [],\n",
    "                '특별한 술집': [],\n",
    "                '퓨전/뷔페': []}\n",
    "\n",
    "for i in range(len(store_df)):\n",
    "    category = df['FD_CS'][i]\n",
    "    category_dict[category].append(store_df[i]['가격'].mean())"
   ]
  },
  {
   "cell_type": "code",
   "execution_count": 23,
   "id": "585742d9-4c7b-4c96-a516-ebeff54c409e",
   "metadata": {},
   "outputs": [],
   "source": [
    "category_dict_mean_price = {}\n",
    "\n",
    "for i in category_dict:\n",
    "    category_dict_mean_price[i] = np.nanmean(category_dict[i])"
   ]
  },
  {
   "cell_type": "code",
   "execution_count": 24,
   "id": "e465e9fc-7973-4a59-8c87-86257e0693ef",
   "metadata": {},
   "outputs": [
    {
     "data": {
      "text/plain": [
       "{'한식': 19841.000682209422,\n",
       " '양식': 23945.30892549185,\n",
       " '세계요리': 17996.95079718436,\n",
       " '일식': 37225.54934381857,\n",
       " '중식': 19790.487213403878,\n",
       " '디저트/베이커리': 5355.0066000066,\n",
       " '전통차/커피전문점': 6808.876137712702,\n",
       " '특별한 술집': 13831.349206349207,\n",
       " '퓨전/뷔페': 36110.416666666664}"
      ]
     },
     "execution_count": 24,
     "metadata": {},
     "output_type": "execute_result"
    }
   ],
   "source": [
    "category_dict_mean_price"
   ]
  },
  {
   "cell_type": "code",
   "execution_count": 25,
   "id": "5ea391db-248e-4326-99ad-07db9cc634ec",
   "metadata": {},
   "outputs": [
    {
     "name": "stderr",
     "output_type": "stream",
     "text": [
      "C:\\Users\\hyeon\\AppData\\Local\\Temp\\ipykernel_7564\\358722784.py:26: RuntimeWarning: Mean of empty slice\n",
      "  adjust_price = np.nanmean(adjust_price)\n"
     ]
    }
   ],
   "source": [
    "### 카테고리별개별식당가격점수\n",
    "\n",
    "adjust_store_score = []\n",
    "\n",
    "for i in range(len(store_df)):\n",
    "    store_mean = store_df[i]['가격'].mean()\n",
    "    adjust_price = []\n",
    "    category = df['FD_CS'][i]\n",
    "    \n",
    "    for menu, price in zip(store_df[i]['품목'], store_df[i]['가격']):\n",
    "        if store_mean >= category_dict_mean_price[category]:\n",
    "            if '한우' in menu:\n",
    "                adjust_price.append(price + price*0.4)\n",
    "            elif ('불고기' or '정식') in menu:\n",
    "                adjust_price.append(price + price*0.3)\n",
    "            else:\n",
    "                adjust_price.append(price)\n",
    "        else:\n",
    "            if '한우' in menu:\n",
    "                adjust_price.append(price - price*0.2)\n",
    "            elif ('불고기' or '정식') in menu:\n",
    "                adjust_price.append(price - price*0.15)\n",
    "            else:\n",
    "                adjust_price.append(price)\n",
    "                \n",
    "    adjust_price = np.nanmean(adjust_price)\n",
    "    adjust_store_score.append([category, adjust_price])"
   ]
  },
  {
   "cell_type": "code",
   "execution_count": 26,
   "id": "7aeb89ee-eac0-4157-ac36-30fdc6a2bb5a",
   "metadata": {},
   "outputs": [],
   "source": [
    "rank_df = pd.DataFrame(adjust_store_score, columns=['category', 'score'])"
   ]
  },
  {
   "cell_type": "code",
   "execution_count": 27,
   "id": "2d6fc099-33ec-4107-a6fc-31b24639d5e4",
   "metadata": {},
   "outputs": [],
   "source": [
    "def calc_score(score, category):\n",
    "    return abs(np.log((score/category_dict_mean_price[category])+0.1))"
   ]
  },
  {
   "cell_type": "code",
   "execution_count": 28,
   "id": "3f126e40-4826-464b-8db2-7fa5e6f997b3",
   "metadata": {},
   "outputs": [],
   "source": [
    "rank_df['rank_score'] = [calc_score(rank_df['score'][i], rank_df['category'][i]) for i in range(len(rank_df))]"
   ]
  },
  {
   "cell_type": "code",
   "execution_count": 29,
   "id": "2fe0bb24-2fb8-4bef-8332-0d5c1c565350",
   "metadata": {
    "tags": []
   },
   "outputs": [
    {
     "data": {
      "text/html": [
       "<div>\n",
       "<style scoped>\n",
       "    .dataframe tbody tr th:only-of-type {\n",
       "        vertical-align: middle;\n",
       "    }\n",
       "\n",
       "    .dataframe tbody tr th {\n",
       "        vertical-align: top;\n",
       "    }\n",
       "\n",
       "    .dataframe thead th {\n",
       "        text-align: right;\n",
       "    }\n",
       "</style>\n",
       "<table border=\"1\" class=\"dataframe\">\n",
       "  <thead>\n",
       "    <tr style=\"text-align: right;\">\n",
       "      <th></th>\n",
       "      <th>category</th>\n",
       "      <th>score</th>\n",
       "      <th>rank_score</th>\n",
       "    </tr>\n",
       "  </thead>\n",
       "  <tbody>\n",
       "    <tr>\n",
       "      <th>225</th>\n",
       "      <td>퓨전/뷔페</td>\n",
       "      <td>2000.000000</td>\n",
       "      <td>1.861845</td>\n",
       "    </tr>\n",
       "    <tr>\n",
       "      <th>661</th>\n",
       "      <td>세계요리</td>\n",
       "      <td>90420.000000</td>\n",
       "      <td>1.633971</td>\n",
       "    </tr>\n",
       "    <tr>\n",
       "      <th>623</th>\n",
       "      <td>한식</td>\n",
       "      <td>2083.333333</td>\n",
       "      <td>1.584738</td>\n",
       "    </tr>\n",
       "    <tr>\n",
       "      <th>682</th>\n",
       "      <td>한식</td>\n",
       "      <td>91666.666667</td>\n",
       "      <td>1.551822</td>\n",
       "    </tr>\n",
       "    <tr>\n",
       "      <th>491</th>\n",
       "      <td>한식</td>\n",
       "      <td>89600.000000</td>\n",
       "      <td>1.529507</td>\n",
       "    </tr>\n",
       "  </tbody>\n",
       "</table>\n",
       "</div>"
      ],
      "text/plain": [
       "    category         score  rank_score\n",
       "225    퓨전/뷔페   2000.000000    1.861845\n",
       "661     세계요리  90420.000000    1.633971\n",
       "623       한식   2083.333333    1.584738\n",
       "682       한식  91666.666667    1.551822\n",
       "491       한식  89600.000000    1.529507"
      ]
     },
     "execution_count": 29,
     "metadata": {},
     "output_type": "execute_result"
    }
   ],
   "source": [
    "rank_df.sort_values(by=['rank_score'], ascending=False)[:5]"
   ]
  },
  {
   "cell_type": "code",
   "execution_count": 30,
   "id": "f8544ad6-51e4-4cf9-b025-55c7293add2d",
   "metadata": {},
   "outputs": [
    {
     "name": "stdout",
     "output_type": "stream",
     "text": [
      "cnt                                                          129\n",
      "OPENDATA_ID                                                  147\n",
      "GNG_CS                                      대구광역시 수성구 범어동 143-19\n",
      "FD_CS                                                       세계요리\n",
      "BZ_NM                                                       아트리움\n",
      "TLNO                                                053-754-3111\n",
      "MBZ_HR                                             11:00 - 23:00\n",
      "SEAT_CNT                                                    120석\n",
      "PKPL                                                         50대\n",
      "HP                                        www.atriumkorea.co.kr/\n",
      "PSB_FRN                                          일본어 기타 (인도, 네팔)\n",
      "BKN_YN                                                        가능\n",
      "INFN_FCL                                                     불가능\n",
      "BRFT_YN                                                      불가능\n",
      "DSSRT_YN                                                      가능\n",
      "MNU            (런치) 아트리움런치코스 : 안심스테이크 74,800원 채끝등심스테이크 64,900...\n",
      "SMPL_DESC      주택가의 전원같은 별장, 편안한 분위기가 있는 음식점으로 아름다운 전경, 야경과 함...\n",
      "SBW                                   지하철 2호선 수성구청역 1번 출구 약 530m\n",
      "BUS                        버스 정류장은 `도시철도수성구청역북편1` 정류장이 가장 가깝습니다.\n",
      "LOCATION                                                     수성구\n",
      "Name: 661, dtype: object\n",
      "(런치) 아트리움런치코스 : 안심스테이크 74,800원 채끝등심스테이크 64,900원 안심스테이크 45,100원\n",
      "랍스터코스 : 라이브랍스터와안심 89,100원\n",
      "(디너) 아트리움코스 : 라이브랍스터와안심 119,900원 안심스테이크 99,000원 \n",
      "랍스터코스 : 라이브랍스터와안심 89,100원 캐나다산라이브랍스터 64,900 \n",
      "스페셜코스 : 안심스테이크 79,200원 채끝등심스테이크 70,400원\n",
      "\n",
      "\n"
     ]
    }
   ],
   "source": [
    "print(df.iloc[661, :])\n",
    "print(df.iloc[661, :]['MNU'])"
   ]
  },
  {
   "cell_type": "code",
   "execution_count": 31,
   "id": "9f179854-ec45-4bf6-9149-690d4b53afd3",
   "metadata": {},
   "outputs": [
    {
     "name": "stdout",
     "output_type": "stream",
     "text": [
      "cnt                                                           91\n",
      "OPENDATA_ID                                                  505\n",
      "GNG_CS                                    대구광역시 수성구 수성동4가 1120-2\n",
      "FD_CS                                                         한식\n",
      "BZ_NM                                                   윤옥연할매떡볶이\n",
      "TLNO                                                053-756-7597\n",
      "MBZ_HR                                             10:00 - 22:00\n",
      "SEAT_CNT                                                     32석\n",
      "PKPL                                                    4대외 노상주차\n",
      "HP                                                            없음\n",
      "PSB_FRN                                           영어 기타 (인도, 네팔)\n",
      "BKN_YN                                            전화주문 가능,자리예약불가\n",
      "INFN_FCL                                                     불가능\n",
      "BRFT_YN                                                      불가능\n",
      "DSSRT_YN                                                     불가능\n",
      "MNU            떡볶이 1,000원 \\r\\n만두 1,000원 \\r\\n오뎅 1,000원 \\r\\n김밥 ...\n",
      "SMPL_DESC      대구특미음식 [매운떡볶이]선정 업체\\r\\n대구에서 한때 `신천할매떡볶이`로 불리우던...\n",
      "SBW                                   지하철 2호선 대구은행역 1번 출구 약 810m\n",
      "BUS                          버스 정류장은 `수성4가동주민센터앞` 정류장이 가장 가깝습니다.\n",
      "LOCATION                                                     수성구\n",
      "Name: 623, dtype: object\n",
      "떡볶이 1,000원 \n",
      "만두 1,000원 \n",
      "오뎅 1,000원 \n",
      "김밥 2,500원 \n",
      "라면 4,000원 \n",
      "순대 3,000원\n",
      "\n"
     ]
    }
   ],
   "source": [
    "print(df.iloc[623, :])\n",
    "print(df.iloc[623, :]['MNU'])"
   ]
  },
  {
   "cell_type": "code",
   "execution_count": 32,
   "id": "fb40cb60-8e60-42d5-97ad-ffd27c602e99",
   "metadata": {},
   "outputs": [
    {
     "name": "stdout",
     "output_type": "stream",
     "text": [
      "cnt                                                           19\n",
      "OPENDATA_ID                                                 1649\n",
      "GNG_CS                                      대구광역시 달서구 월성동 1317-1\n",
      "FD_CS                                                         한식\n",
      "BZ_NM                                                    신기동대게나라\n",
      "TLNO                                                053-628-2277\n",
      "MBZ_HR                                             11:30 ~ 23:30\n",
      "SEAT_CNT                                                 96석(룸3)\n",
      "PKPL                                                         50대\n",
      "HP                                           pf.kakao.com/_kpSnT\n",
      "PSB_FRN                                           중국어 &lt;BR&gt;\n",
      "BKN_YN                                                        가능\n",
      "INFN_FCL                                                     불가능\n",
      "BRFT_YN                                                      불가능\n",
      "DSSRT_YN                                                      가능\n",
      "MNU            대게(1kg) 96,000원\\r\\n킹크랩(1kg) 139,000원\\r\\n랍스타(1k...\n",
      "SMPL_DESC      신기동 대표의 이름을 걸고 대구 최고의 대게, 킹크랩, 랍스타를 착한 가격에 제공하...\n",
      "SBW                           지하철 1호선 월배역 4번 출구에서 도보로 약 454m 거리.\n",
      "BUS                           버스 정류장은 `태왕아너스베스트앞` 정류장이 가장 가깝습니다.\n",
      "LOCATION                                                     달서구\n",
      "Name: 682, dtype: object\n",
      "대게(1kg) 96,000원\n",
      "킹크랩(1kg) 139,000원\n",
      "랍스타(1kg) 87,000원\n",
      "홍게(1kg) 69,000원\n",
      "대게세트 144,000원 ~ 336,000원\n",
      "물회 15,000원\n",
      "\n"
     ]
    }
   ],
   "source": [
    "print(df.iloc[682, :])\n",
    "print(df.iloc[682, :]['MNU'])"
   ]
  },
  {
   "cell_type": "code",
   "execution_count": null,
   "id": "22188b41-0981-4a34-9875-3d7c7e83b0bb",
   "metadata": {},
   "outputs": [],
   "source": []
  }
 ],
 "metadata": {
  "kernelspec": {
   "display_name": "Python 3 (ipykernel)",
   "language": "python",
   "name": "python3"
  },
  "language_info": {
   "codemirror_mode": {
    "name": "ipython",
    "version": 3
   },
   "file_extension": ".py",
   "mimetype": "text/x-python",
   "name": "python",
   "nbconvert_exporter": "python",
   "pygments_lexer": "ipython3",
   "version": "3.8.12"
  }
 },
 "nbformat": 4,
 "nbformat_minor": 5
}
