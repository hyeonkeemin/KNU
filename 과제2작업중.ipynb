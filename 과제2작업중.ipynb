{
 "cells": [
  {
   "cell_type": "markdown",
   "id": "d4ed921a-1113-4e1b-ac22-5e0d2e857c30",
   "metadata": {},
   "source": [
    "1. 대구의 7개 구(중구, 동구, 서구, 남구, 북구, 수성구, 달서구)과 1개 군(달성군)의 맛집은 각각 몇 개인가?\n",
    "\n",
    "2. 오픈 api에 포함된 \"설명\"(SMPL_DESC)을 분석하여, 맛집 설명에서 가장 유의미하게 많이 등장하는 5개 단어를 제시하라. \n",
    "\n",
    "3. 오픈 api에 포함된 \"메뉴\"(MNU)를 분석하여, 대구 맛집들이 제공하는 가장 흔한 메뉴 3개를 제시하라. 그리고 이들의 평균 가격 또한 함께 제시하라.\n",
    "\n",
    "4. 본인이 제시한 2번, 3번 결과에 부합하는 맛집을 최종적으로 최대 3곳 선정하여 제시하라. (논리적 근거를 명확히 밝히라.)\n",
    "\n",
    " \n",
    "\n",
    "* 답변의 제출은 반드시 \"학번.pdf\"로 제출하고, 추가적으로 분석에 활용된 python code를 원본형식으로 제출하라.\n",
    "\n",
    "(코드 파일에 # 이나 Jupyternote book 기능을 이용해 설명만 추가하는 형식의 제출은 정식 과제 점수로 인정하지 않음.)"
   ]
  },
  {
   "cell_type": "code",
   "execution_count": 1,
   "id": "5e2960ee-b408-4d83-a879-b1d0d9cf7861",
   "metadata": {},
   "outputs": [],
   "source": [
    "import requests\n",
    "from urllib import parse "
   ]
  },
  {
   "cell_type": "code",
   "execution_count": 2,
   "id": "8e9299ec-beea-444e-b285-92e1837eaa35",
   "metadata": {},
   "outputs": [],
   "source": [
    "def matzip_api(coordinate):\n",
    "    address = 'https://www.daegufood.go.kr/kor/api/tasty.html?mode=json&addr='\n",
    "    coordinate = parse.quote(coordinate)\n",
    "    response = requests.get(address+coordinate)\n",
    "    \n",
    "    return response.json(strict=False)"
   ]
  },
  {
   "cell_type": "code",
   "execution_count": 3,
   "id": "8fc36a6c-378e-4f87-8b2f-af9a4ec5d779",
   "metadata": {},
   "outputs": [],
   "source": [
    "location = ['중구', '동구', '서구', '남구', '북구', '수성구', '달서구', '달성군']"
   ]
  },
  {
   "cell_type": "code",
   "execution_count": 4,
   "id": "df051492-66e7-43a7-b4b4-427bcf287411",
   "metadata": {},
   "outputs": [],
   "source": [
    "daegu_matzip = {i:matzip_api(i) for i in location}"
   ]
  },
  {
   "cell_type": "markdown",
   "id": "cc589398-77c5-4677-9879-dc6907047b19",
   "metadata": {
    "tags": []
   },
   "source": [
    "### 1. 대구의 7개 구(중구, 동구, 서구, 남구, 북구, 수성구, 달서구)과 1개 군(달성군)의 맛집은 각각 몇 개인가?"
   ]
  },
  {
   "cell_type": "code",
   "execution_count": 5,
   "id": "7983c5af-492e-4eea-bdfc-b6a3612d3632",
   "metadata": {},
   "outputs": [
    {
     "name": "stdout",
     "output_type": "stream",
     "text": [
      "중구: 181 개\n",
      "동구: 137 개\n",
      "서구: 63 개\n",
      "남구: 57 개\n",
      "북구: 95 개\n",
      "수성구: 131 개\n",
      "달서구: 168 개\n",
      "달성군: 93 개\n"
     ]
    }
   ],
   "source": [
    "for i in daegu_matzip:\n",
    "    print(f'{i}: {daegu_matzip[i][\"total\"]} 개')"
   ]
  },
  {
   "cell_type": "markdown",
   "id": "a6e9b37a-de93-4c57-b54a-13cae85022a0",
   "metadata": {
    "tags": []
   },
   "source": [
    "### 2. 오픈 api에 포함된 \"설명\"(SMPL_DESC)을 분석하여, 맛집 설명에서 가장 유의미하게 많이 등장하는 5개 단어를 제시하라."
   ]
  },
  {
   "cell_type": "code",
   "execution_count": 6,
   "id": "5205855f-32b1-4025-929d-5e40f7e222bb",
   "metadata": {},
   "outputs": [],
   "source": [
    "import pandas as pd\n",
    "import re\n",
    "from sklearn.feature_extraction.text import CountVectorizer\n",
    "from konlpy.tag import Okt"
   ]
  },
  {
   "cell_type": "code",
   "execution_count": 7,
   "id": "a9064700-b6f9-4a42-9b7a-01063d9a5964",
   "metadata": {
    "tags": []
   },
   "outputs": [],
   "source": [
    "def make_df(location):\n",
    "    df = []\n",
    "    for i in location:\n",
    "        local_df = pd.DataFrame(daegu_matzip[i]['data'])\n",
    "        local_df['LOCATION'] = i\n",
    "        df.append(local_df)\n",
    "        \n",
    "    return pd.concat(df).reset_index(drop=True)"
   ]
  },
  {
   "cell_type": "code",
   "execution_count": 8,
   "id": "95be4793-ad9e-4a3e-8444-4afe8bed8189",
   "metadata": {},
   "outputs": [],
   "source": [
    "df = make_df(location)"
   ]
  },
  {
   "cell_type": "code",
   "execution_count": 9,
   "id": "6c672566-125a-4cbb-bd32-fa748a7ba772",
   "metadata": {},
   "outputs": [
    {
     "data": {
      "text/plain": [
       "한식           700\n",
       "양식            41\n",
       "일식            40\n",
       "디저트/베이커리      38\n",
       "중식            36\n",
       "세계요리          34\n",
       "전통차/커피전문점     19\n",
       "퓨전/뷔페         11\n",
       "특별한 술집         6\n",
       "Name: FD_CS, dtype: int64"
      ]
     },
     "execution_count": 9,
     "metadata": {},
     "output_type": "execute_result"
    }
   ],
   "source": [
    "df['FD_CS'].value_counts()"
   ]
  },
  {
   "cell_type": "code",
   "execution_count": 10,
   "id": "6f35044f-f14a-4aa6-91dd-c42bf008eb67",
   "metadata": {},
   "outputs": [],
   "source": [
    "clean = re.compile(\"[^ㄱ-힣0-9 %]\")\n",
    "df['text'] = df['SMPL_DESC'].apply(lambda x: clean.sub('', str(x)))"
   ]
  },
  {
   "cell_type": "code",
   "execution_count": 11,
   "id": "2fe81127-3ba3-485e-8fef-bbb5ba035a0a",
   "metadata": {},
   "outputs": [],
   "source": [
    "def tokenize(text):\n",
    "    okt = Okt()\n",
    "    word_token = okt.nouns(text)\n",
    "    result = [word for word in word_token if len(word) > 1]\n",
    "    return word_token"
   ]
  },
  {
   "cell_type": "code",
   "execution_count": 15,
   "id": "1c356687-d6da-46e2-9998-9235fe8158c1",
   "metadata": {},
   "outputs": [],
   "source": [
    "texts = df['text'].apply(tokenize)"
   ]
  },
  {
   "cell_type": "code",
   "execution_count": 16,
   "id": "dc4ef6c9-2941-4b96-af74-30001114c87a",
   "metadata": {},
   "outputs": [
    {
     "data": {
      "text/plain": [
       "0                          [송림, 복어, 이상, 전통, 복어, 요리, 전문점]\n",
       "1      [테이, 스팅, 스푼, 은, 가격, 스테이크, 파스타, 수, 가성, 비, 양식, 전문점]\n",
       "2      [이상, 자리, 온, 동성로, 명물, 박석, 규, 중앙, 떡볶이, 쌀, 떡볶이, 납...\n",
       "3             [핸드, 메이드, 모든, 음식, 직접, 가성, 비, 유러, 피안, 레스토랑]\n",
       "4      [차이, 미들급, 다이닝, 지향, 태국, 요리, 및, 일본, 요리, 등, 아시안, ...\n",
       "                             ...                        \n",
       "920    [대형, 양어, 지하, 수로, 정수, 장어, 건강, 잔디밭, 전망, 탁트인, 야외,...\n",
       "921    [계곡, 물, 소리, 바람소리, 방갈로, 전통, 염소, 보양, 요리, 곳, 주인, ...\n",
       "922    [뫼, 카페, 산, 배경, 경관, 입구, 통나무, 입, 판이, 인상, 분위기, 추천...\n",
       "923    [대자연, 식당, 도심, 수, 새, 노래, 소리, 계곡, 물, 소리, 바람소리, 신...\n",
       "924    [가창, 위치, 파스타, 피자, 전문점, 송하, 정원, 산책, 엔틱, 유럽, 층, ...\n",
       "Name: text, Length: 925, dtype: object"
      ]
     },
     "execution_count": 16,
     "metadata": {},
     "output_type": "execute_result"
    }
   ],
   "source": [
    "texts"
   ]
  },
  {
   "cell_type": "code",
   "execution_count": 17,
   "id": "74c30a05-b8da-4a73-8530-61d4965f3bb2",
   "metadata": {},
   "outputs": [],
   "source": [
    "from gensim import corpora\n",
    "\n",
    "dictionary = corpora.Dictionary(text)\n",
    "corpus = [dictionary.doc2bow(text) for text in texts]"
   ]
  },
  {
   "cell_type": "code",
   "execution_count": 26,
   "id": "eb1ff4a1-7284-4f9a-8919-909768950416",
   "metadata": {},
   "outputs": [],
   "source": [
    "import gensim\n",
    "\n",
    "NUM_TOPICS = 1\n",
    "ldamodel = gensim.models.ldamodel.LdaModel(corpus, num_topics = NUM_TOPICS, id2word=dictionary, passes=15)\n",
    "topics = ldamodel.print_topics()"
   ]
  },
  {
   "cell_type": "code",
   "execution_count": 28,
   "id": "86f4780f-6e2a-474c-85d0-d32e14110cce",
   "metadata": {},
   "outputs": [],
   "source": [
    "df_foreign = df[df['FD_CS'] == '양식']['SMPL_DESC'].apply(lambda x: clean.sub('', str(x)))"
   ]
  },
  {
   "cell_type": "code",
   "execution_count": 33,
   "id": "f02d9136-3188-4fcb-8d42-fc369cc6c81d",
   "metadata": {},
   "outputs": [],
   "source": [
    "texts = df_foreign.apply(tokenize)\n",
    "dictionary = corpora.Dictionary(texts)\n",
    "corpus = [dictionary.doc2bow(text) for text in texts]\n",
    "NUM_TOPICS = 1\n",
    "ldamodel = gensim.models.ldamodel.LdaModel(corpus, num_topics = NUM_TOPICS, id2word=dictionary, passes=15)\n",
    "topics = ldamodel.print_topics()"
   ]
  },
  {
   "cell_type": "code",
   "execution_count": 34,
   "id": "102448ef-eccd-42a3-994b-2c4653494b22",
   "metadata": {},
   "outputs": [
    {
     "data": {
      "text/plain": [
       "[(0,\n",
       "  '0.024*\"수\" + 0.020*\"레스토랑\" + 0.019*\"전문점\" + 0.018*\"파스타\" + 0.016*\"피자\" + 0.016*\"스테이크\" + 0.013*\"요리\" + 0.011*\"위치\" + 0.010*\"곳\" + 0.009*\"음식점\"')]"
      ]
     },
     "execution_count": 34,
     "metadata": {},
     "output_type": "execute_result"
    }
   ],
   "source": [
    "topics"
   ]
  },
  {
   "cell_type": "code",
   "execution_count": null,
   "id": "638d5e1c-98e5-43ab-9f21-86c2f7fd94db",
   "metadata": {},
   "outputs": [],
   "source": []
  }
 ],
 "metadata": {
  "kernelspec": {
   "display_name": "Python 3 (ipykernel)",
   "language": "python",
   "name": "python3"
  },
  "language_info": {
   "codemirror_mode": {
    "name": "ipython",
    "version": 3
   },
   "file_extension": ".py",
   "mimetype": "text/x-python",
   "name": "python",
   "nbconvert_exporter": "python",
   "pygments_lexer": "ipython3",
   "version": "3.8.13"
  }
 },
 "nbformat": 4,
 "nbformat_minor": 5
}
