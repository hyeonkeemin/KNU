{
 "cells": [
  {
   "cell_type": "markdown",
   "id": "69403147-aece-4692-bd46-1b5c6e962d21",
   "metadata": {},
   "source": [
    "# 과제\n",
    "## 2022235027 민현기"
   ]
  },
  {
   "cell_type": "markdown",
   "id": "d4ed921a-1113-4e1b-ac22-5e0d2e857c30",
   "metadata": {},
   "source": [
    "1. 대구의 7개 구(중구, 동구, 서구, 남구, 북구, 수성구, 달서구)과 1개 군(달성군)의 맛집은 각각 몇 개인가?\n",
    "\n",
    "2. 오픈 api에 포함된 \"설명\"(SMPL_DESC)을 분석하여, 맛집 설명에서 가장 유의미하게 많이 등장하는 5개 단어를 제시하라. \n",
    "\n",
    "3. 오픈 api에 포함된 \"메뉴\"(MNU)를 분석하여, 대구 맛집들이 제공하는 가장 흔한 메뉴 3개를 제시하라. 그리고 이들의 평균 가격 또한 함께 제시하라.\n",
    "\n",
    "4. 본인이 제시한 2번, 3번 결과에 부합하는 맛집을 최종적으로 최대 3곳 선정하여 제시하라. (논리적 근거를 명확히 밝히라.)\n",
    "\n",
    " \n",
    "\n",
    "* 답변의 제출은 반드시 \"학번.pdf\"로 제출하고, 추가적으로 분석에 활용된 python code를 원본형식으로 제출하라.\n",
    "\n",
    "(코드 파일에 # 이나 Jupyternote book 기능을 이용해 설명만 추가하는 형식의 제출은 정식 과제 점수로 인정하지 않음.)"
   ]
  },
  {
   "cell_type": "code",
   "execution_count": 1,
   "id": "5e2960ee-b408-4d83-a879-b1d0d9cf7861",
   "metadata": {},
   "outputs": [],
   "source": [
    "import requests\n",
    "from urllib import parse "
   ]
  },
  {
   "cell_type": "code",
   "execution_count": 2,
   "id": "8e9299ec-beea-444e-b285-92e1837eaa35",
   "metadata": {},
   "outputs": [],
   "source": [
    "def matzip_api(coordinate):\n",
    "    address = 'https://www.daegufood.go.kr/kor/api/tasty.html?mode=json&addr='\n",
    "    coordinate = parse.quote(coordinate)\n",
    "    response = requests.get(address+coordinate)\n",
    "    \n",
    "    return response.json(strict=False)"
   ]
  },
  {
   "cell_type": "code",
   "execution_count": 3,
   "id": "8fc36a6c-378e-4f87-8b2f-af9a4ec5d779",
   "metadata": {},
   "outputs": [],
   "source": [
    "location = ['중구', '동구', '서구', '남구', '북구', '수성구', '달서구', '달성군']"
   ]
  },
  {
   "cell_type": "code",
   "execution_count": 4,
   "id": "df051492-66e7-43a7-b4b4-427bcf287411",
   "metadata": {},
   "outputs": [],
   "source": [
    "daegu_matzip = {i:matzip_api(i) for i in location}"
   ]
  },
  {
   "cell_type": "markdown",
   "id": "cc589398-77c5-4677-9879-dc6907047b19",
   "metadata": {
    "tags": []
   },
   "source": [
    "### 1. 대구의 7개 구(중구, 동구, 서구, 남구, 북구, 수성구, 달서구)과 1개 군(달성군)의 맛집은 각각 몇 개인가?"
   ]
  },
  {
   "cell_type": "code",
   "execution_count": 5,
   "id": "7983c5af-492e-4eea-bdfc-b6a3612d3632",
   "metadata": {},
   "outputs": [
    {
     "name": "stdout",
     "output_type": "stream",
     "text": [
      "중구: 181 개\n",
      "동구: 137 개\n",
      "서구: 63 개\n",
      "남구: 57 개\n",
      "북구: 95 개\n",
      "수성구: 131 개\n",
      "달서구: 168 개\n",
      "달성군: 93 개\n"
     ]
    }
   ],
   "source": [
    "for i in daegu_matzip:\n",
    "    print(f'{i}: {daegu_matzip[i][\"total\"]} 개')"
   ]
  },
  {
   "cell_type": "markdown",
   "id": "a6e9b37a-de93-4c57-b54a-13cae85022a0",
   "metadata": {
    "tags": []
   },
   "source": [
    "### 2. 오픈 api에 포함된 \"설명\"(SMPL_DESC)을 분석하여, 맛집 설명에서 가장 유의미하게 많이 등장하는 5개 단어를 제시하라."
   ]
  },
  {
   "cell_type": "code",
   "execution_count": 6,
   "id": "5205855f-32b1-4025-929d-5e40f7e222bb",
   "metadata": {},
   "outputs": [],
   "source": [
    "import numpy as np\n",
    "import pandas as pd\n",
    "import re\n",
    "from konlpy.tag import Okt\n",
    "import gensim\n",
    "from gensim import corpora"
   ]
  },
  {
   "cell_type": "code",
   "execution_count": 7,
   "id": "a9064700-b6f9-4a42-9b7a-01063d9a5964",
   "metadata": {
    "tags": []
   },
   "outputs": [],
   "source": [
    "def make_df(location):\n",
    "    df = []\n",
    "    for i in location:\n",
    "        local_df = pd.DataFrame(daegu_matzip[i]['data'])\n",
    "        local_df['LOCATION'] = i\n",
    "        df.append(local_df)\n",
    "        \n",
    "    return pd.concat(df).reset_index(drop=True)"
   ]
  },
  {
   "cell_type": "code",
   "execution_count": 8,
   "id": "95be4793-ad9e-4a3e-8444-4afe8bed8189",
   "metadata": {},
   "outputs": [],
   "source": [
    "df = make_df(location)"
   ]
  },
  {
   "cell_type": "code",
   "execution_count": 9,
   "id": "a48a2133-1008-4483-955d-4da8e3a15b14",
   "metadata": {},
   "outputs": [
    {
     "data": {
      "text/plain": [
       "한식           700\n",
       "양식            41\n",
       "일식            40\n",
       "디저트/베이커리      38\n",
       "중식            36\n",
       "세계요리          34\n",
       "전통차/커피전문점     19\n",
       "퓨전/뷔페         11\n",
       "특별한 술집         6\n",
       "Name: FD_CS, dtype: int64"
      ]
     },
     "execution_count": 9,
     "metadata": {},
     "output_type": "execute_result"
    }
   ],
   "source": [
    "df['FD_CS'].value_counts()"
   ]
  },
  {
   "cell_type": "code",
   "execution_count": 17,
   "id": "442b806c-2b9f-4031-b922-4dfcb112fd16",
   "metadata": {},
   "outputs": [],
   "source": [
    "class CustomLDA:\n",
    "    def __init__(self, pandas_text_column, stop_words, num_topics=1, num_words=5):\n",
    "        clean = re.compile(\"[^ㄱ-힣0-9 %]\")\n",
    "        self.texts = pandas_text_column.apply(lambda x: clean.sub('', str(x)))\n",
    "        self.tagger = Okt()\n",
    "        self.stop_words = stop_words\n",
    "        self.num_topics = num_topics\n",
    "        self.num_words = num_words\n",
    "        \n",
    "    def nouns_tokenizer(self, text):\n",
    "        word_token = self.tagger.nouns(text)\n",
    "        self.result = [word for word in word_token if word not in self.stop_words]\n",
    "        return self.result\n",
    "    \n",
    "    def LDA(self):\n",
    "        nouns_tokenizer = self.nouns_tokenizer\n",
    "        texts = self.texts.apply(nouns_tokenizer)\n",
    "        dictionary = corpora.Dictionary(texts)\n",
    "        corpus = [dictionary.doc2bow(text) for text in texts]\n",
    "        NUM_TOPICS = self.num_topics\n",
    "        ldamodel = gensim.models.ldamodel.LdaModel(corpus, num_topics = NUM_TOPICS, id2word=dictionary, passes=15)\n",
    "        topics = ldamodel.print_topics(num_words=self.num_words)\n",
    "        return topics"
   ]
  },
  {
   "cell_type": "markdown",
   "id": "55b8aa2b-c713-4316-85f7-e6b7b0040ba3",
   "metadata": {},
   "source": [
    "- 처음엔 불용어를 설정하지 않고, 결과를 돌려보며 리스트에 나오는 불용어를 하나씩 제거하며 최종적으로 5개의 단어를 선정함"
   ]
  },
  {
   "cell_type": "code",
   "execution_count": 11,
   "id": "981fe980-9ca6-4e82-8ffb-d8f36c0d84fc",
   "metadata": {},
   "outputs": [
    {
     "data": {
      "text/plain": [
       "[(0, '0.043*\"전문점\" + 0.012*\"맛\" + 0.010*\"위치\" + 0.008*\"전통\" + 0.008*\"직접\"')]"
      ]
     },
     "execution_count": 11,
     "metadata": {},
     "output_type": "execute_result"
    }
   ],
   "source": [
    "stop_words = ['수', '요리', '곳', '등', '음식점', '한우', '사용', '음식']\n",
    "CustomLDA(pandas_text_column=df['SMPL_DESC'], stop_words=stop_words, num_topics=1).LDA()"
   ]
  },
  {
   "cell_type": "markdown",
   "id": "4d6762f5-9255-4172-a4f7-c6c77cc51157",
   "metadata": {
    "tags": []
   },
   "source": [
    "### 3. 오픈 api에 포함된 \"메뉴\"(MNU)를 분석하여, 대구 맛집들이 제공하는 가장 흔한 메뉴 3개를 제시하라. 그리고 이들의 평균 가격 또한 함께 제시하라."
   ]
  },
  {
   "cell_type": "code",
   "execution_count": 12,
   "id": "bc7c19ff-8a05-4ba2-97ce-91e9284ebd54",
   "metadata": {},
   "outputs": [],
   "source": [
    "def make_menu_df(text):\n",
    "    text = text.strip('\\r\\n').split('\\r\\n')\n",
    "    \n",
    "    pattern_price = re.compile('[0-9,[0-9]+(?=원)')\n",
    "    pattern_menu = re.compile('^(.*?)(?= \\d+,)')\n",
    "    \n",
    "    menu = pd.Series([pattern_menu.findall(i) for i in text]).apply(lambda x: ''.join(x) if x else '없음')\n",
    "    # menu = pd.Series(text).apply(CustomLDA(pd.Series(text[0]), stop_words).nouns_tokenizer).apply(lambda x: ''.join(x))\n",
    "    price = pd.Series([pattern_price.findall(i) for i in text]).apply(lambda x: int(x[0].replace(',', '')) if x else np.nan)\n",
    "    \n",
    "    return pd.DataFrame(zip(menu, price), columns=['품목', '가격'])"
   ]
  },
  {
   "cell_type": "code",
   "execution_count": 13,
   "id": "4388a792-12d7-454f-8d06-68fc697472d3",
   "metadata": {},
   "outputs": [],
   "source": [
    "def menu_concat(df):\n",
    "    concat_list_df = [make_menu_df(df['MNU'][i]) for i in range(len(df['MNU']))]\n",
    "    return pd.concat(concat_list_df).reset_index(drop=True)"
   ]
  },
  {
   "cell_type": "code",
   "execution_count": 14,
   "id": "a362390c-2723-4871-baa6-6c836591cd93",
   "metadata": {},
   "outputs": [],
   "source": [
    "menu_df = menu_concat(df)"
   ]
  },
  {
   "cell_type": "markdown",
   "id": "0a487410-fc44-4380-ac3d-049583d84a0e",
   "metadata": {},
   "source": [
    "- 처음엔 불용어를 설정하지 않고, 결과를 돌려보며 리스트에 나오는 불용어를 하나씩 제거하며 최종적으로 각 토픽별 첫번째 메뉴를 대표메뉴로 선정함"
   ]
  },
  {
   "cell_type": "code",
   "execution_count": 19,
   "id": "ac57300a-d6e9-4467-b571-231ce0401d3d",
   "metadata": {},
   "outputs": [
    {
     "data": {
      "text/plain": [
       "[(0, '0.043*\"불고기\" + 0.035*\"정식\" + 0.029*\"탕\"'),\n",
       " (1, '0.039*\"찜\" + 0.017*\"삼계탕\" + 0.016*\"해물\"'),\n",
       " (2, '0.032*\"한우\" + 0.028*\"육회\" + 0.024*\"갈비살\"')]"
      ]
     },
     "execution_count": 19,
     "metadata": {},
     "output_type": "execute_result"
    }
   ],
   "source": [
    "stop_words_menu = ['세트', '인', '생']\n",
    "CustomLDA(menu_df['품목'], stop_words=stop_words_menu, num_topics=3, num_words=3).LDA()"
   ]
  },
  {
   "cell_type": "code",
   "execution_count": 24,
   "id": "dafb0cdb-bacc-4793-973b-442c0b0c046a",
   "metadata": {},
   "outputs": [
    {
     "data": {
      "text/plain": [
       "17206.611570247933"
      ]
     },
     "execution_count": 24,
     "metadata": {},
     "output_type": "execute_result"
    }
   ],
   "source": [
    "menu_df[menu_df['품목'].str.contains('불고기')]['가격'].mean()"
   ]
  },
  {
   "cell_type": "code",
   "execution_count": 25,
   "id": "c4e49a14-ee19-4455-a9c3-f72712d96895",
   "metadata": {},
   "outputs": [
    {
     "data": {
      "text/plain": [
       "30502.875399361023"
      ]
     },
     "execution_count": 25,
     "metadata": {},
     "output_type": "execute_result"
    }
   ],
   "source": [
    "menu_df[menu_df['품목'].str.contains('찜')]['가격'].mean()"
   ]
  },
  {
   "cell_type": "code",
   "execution_count": 26,
   "id": "226bccf5-667a-43ad-b5f9-2961ebdc2d45",
   "metadata": {},
   "outputs": [
    {
     "data": {
      "text/plain": [
       "22696.753246753247"
      ]
     },
     "execution_count": 26,
     "metadata": {},
     "output_type": "execute_result"
    }
   ],
   "source": [
    "menu_df[menu_df['품목'].str.contains('한우')]['가격'].mean()"
   ]
  },
  {
   "cell_type": "code",
   "execution_count": null,
   "id": "76e803dc-dcac-4ed5-92a2-2114e78e43dd",
   "metadata": {},
   "outputs": [],
   "source": []
  }
 ],
 "metadata": {
  "kernelspec": {
   "display_name": "Python 3 (ipykernel)",
   "language": "python",
   "name": "python3"
  },
  "language_info": {
   "codemirror_mode": {
    "name": "ipython",
    "version": 3
   },
   "file_extension": ".py",
   "mimetype": "text/x-python",
   "name": "python",
   "nbconvert_exporter": "python",
   "pygments_lexer": "ipython3",
   "version": "3.8.13"
  }
 },
 "nbformat": 4,
 "nbformat_minor": 5
}
