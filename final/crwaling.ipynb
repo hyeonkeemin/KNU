{
 "cells": [
  {
   "cell_type": "markdown",
   "id": "3bc0f7af-8f0b-40e4-87ec-bcee807d0939",
   "metadata": {},
   "source": [
    "- 크롤링 사이트\n",
    "1. https://ddnews.co.kr/mbti-%ed%8c%a9%ed%8f%ad-%eb%aa%a8%ec%9d%8c/#MBTI_%ED%8C%A9%ED%8F%AD_%EB%AA%A8%EC%9D%8C_2%ED%83%84\n",
    "2. https://www.16personalities.com/ko/%EC%84%B1%EA%B2%A9-%EC%9C%A0%ED%98%95\n",
    "3. https://namu.wiki/w/16%20Personalities"
   ]
  },
  {
   "cell_type": "code",
   "execution_count": 1,
   "id": "6e7a80b9-e531-462c-8103-5ca3edb345c0",
   "metadata": {},
   "outputs": [],
   "source": [
    "import pandas as pd\n",
    "import numpy as np\n",
    "import selenium\n",
    "from selenium import webdriver\n",
    "from bs4 import BeautifulSoup\n",
    "from hanspell import spell_checker\n",
    "from tqdm import tqdm\n",
    "import re"
   ]
  },
  {
   "cell_type": "markdown",
   "id": "5f9002dd-cd51-4284-9adc-29bb22a88a9a",
   "metadata": {},
   "source": [
    "# 1번"
   ]
  },
  {
   "cell_type": "code",
   "execution_count": 2,
   "id": "b7546427-cf6f-4fce-aab8-0aa30a4f997b",
   "metadata": {},
   "outputs": [],
   "source": [
    "URL = 'https://ddnews.co.kr/mbti-%ed%8c%a9%ed%8f%ad-%eb%aa%a8%ec%9d%8c/#MBTI_%ED%8C%A9%ED%8F%AD_%EB%AA%A8%EC%9D%8C_2%ED%83%84'\n",
    "\n",
    "driver = webdriver.Chrome()\n",
    "driver.get(URL)\n",
    "html = driver.page_source\n",
    "soup = BeautifulSoup(html, 'lxml')\n",
    "\n",
    "driver.close()"
   ]
  },
  {
   "cell_type": "code",
   "execution_count": 3,
   "id": "a8f64124-30c4-4b9c-8912-6f95b69a3265",
   "metadata": {},
   "outputs": [],
   "source": [
    "MBTI_list = ['ISFP','ISFJ','ISTJ','ESFP','ESFJ','ESTP','ESTJ','INFP','INFJ','INTP','INTJ','ENFP','ENFJ','ENTP','ENTJ','ISTP']"
   ]
  },
  {
   "cell_type": "code",
   "execution_count": 4,
   "id": "8c398d8e-f643-4dab-b793-de3f7cc27182",
   "metadata": {},
   "outputs": [],
   "source": [
    "check_point = [[9,51], # ISFP\n",
    "              [55,94], # ISFJ\n",
    "              [97,127], # ISTJ\n",
    "              [131,159], # ESFP\n",
    "              [163,185], # ESFJ\n",
    "              [189,217], # ESTP\n",
    "              [221,250], # ESTJ\n",
    "              [252,303], # INFP\n",
    "              [307,339], # INFJ\n",
    "              [343,389], # INTP\n",
    "              [393,427], # INTJ\n",
    "              [431,473], # ENFP\n",
    "              [477,507], # ENFJ\n",
    "              [511,560], # ENTP\n",
    "              [564,596], # ENTJ\n",
    "              [599,613]] # ISTP"
   ]
  },
  {
   "cell_type": "code",
   "execution_count": 5,
   "id": "b7954c22-5bfc-48f2-9795-fe2c958c65e8",
   "metadata": {},
   "outputs": [],
   "source": [
    "# check_point = (np.array(check_point) + 1).tolist() # 시작 지점 달라짐"
   ]
  },
  {
   "cell_type": "code",
   "execution_count": 6,
   "id": "a9b0f999-385c-420b-a376-a6f5c0c1f6d3",
   "metadata": {
    "tags": []
   },
   "outputs": [
    {
     "name": "stdout",
     "output_type": "stream",
     "text": [
      "ISFP complete\n",
      "ISFJ complete\n",
      "ISTJ complete\n",
      "ESFP complete\n",
      "ESFJ complete\n",
      "ESTP complete\n",
      "ESTJ complete\n",
      "INFP complete\n",
      "INFJ complete\n",
      "INTP complete\n",
      "INTJ complete\n",
      "ENFP complete\n",
      "ENFJ complete\n",
      "ENTP complete\n",
      "ENTJ complete\n",
      "ISTP complete\n"
     ]
    }
   ],
   "source": [
    "MBTI_feature = []\n",
    "check_point_cnt = 0\n",
    "\n",
    "while True:\n",
    "    indiv_feature = []\n",
    "    # print(check_point_cnt)\n",
    "    \n",
    "    if check_point_cnt != 16:\n",
    "        for idx, value in enumerate(soup.select('p')):\n",
    "\n",
    "            if idx >= check_point[check_point_cnt][0] and idx <= check_point[check_point_cnt][1]:\n",
    "                # print(idx, value.text)\n",
    "                indiv_feature.append(value.text)\n",
    "\n",
    "                if idx == check_point[check_point_cnt][1]:\n",
    "                    # print(indiv_feature)\n",
    "                    # print(check_point_cnt)\n",
    "                    MBTI_feature.append(indiv_feature)\n",
    "                    print(f'{MBTI_list[check_point_cnt]} complete')\n",
    "\n",
    "                    indiv_feature = []\n",
    "                    \n",
    "        check_point_cnt += 1\n",
    "                \n",
    "    else:\n",
    "        break"
   ]
  },
  {
   "cell_type": "code",
   "execution_count": 7,
   "id": "83e3a76d-37d4-4a0d-a1d9-acc8f7777b45",
   "metadata": {},
   "outputs": [
    {
     "name": "stderr",
     "output_type": "stream",
     "text": [
      "100%|██████████████████████████████████████████████████████████████████████████████████| 16/16 [00:19<00:00,  1.20s/it]\n"
     ]
    }
   ],
   "source": [
    "MBTI_spell_feature = []\n",
    "clean = re.compile(\"[^ㄱ-힣0-9 %]\")\n",
    "\n",
    "for i in tqdm(range(len(MBTI_feature))):\n",
    "    spell_feature = [clean.sub('', spell_checker.check(j).checked) for j in MBTI_feature[i]]\n",
    "    # spell_feature = [spell_checker.check(j).checked for j in MBTI_feature[i]]\n",
    "    MBTI_spell_feature.append(spell_feature)"
   ]
  },
  {
   "cell_type": "code",
   "execution_count": 8,
   "id": "2ced2973-80a9-404d-9bf2-5dc14fb32e32",
   "metadata": {},
   "outputs": [],
   "source": [
    "mbti = {idx: value for idx, value in zip(MBTI_list, MBTI_spell_feature)}"
   ]
  },
  {
   "cell_type": "markdown",
   "id": "6c2c0662-c408-4343-a877-2c8deae3c055",
   "metadata": {
    "tags": []
   },
   "source": [
    "# 2번"
   ]
  },
  {
   "cell_type": "code",
   "execution_count": 9,
   "id": "6388eac5-927b-4719-a9a6-b745a03248d5",
   "metadata": {},
   "outputs": [],
   "source": [
    "URL = 'https://www.16personalities.com/ko/%EC%84%B1%EA%B2%A9-%EC%9C%A0%ED%98%95'\n",
    "\n",
    "xpath_list = [\n",
    "    '//*[@id=\"main-app\"]/main/div[5]/div/a[2]', # ISFP\n",
    "    '//*[@id=\"main-app\"]/main/div[4]/div/a[2]', # ISFJ\n",
    "    '//*[@id=\"main-app\"]/main/div[4]/div/a[1]', # ISTJ\n",
    "    '//*[@id=\"main-app\"]/main/div[5]/div/a[4]', # ESFP\n",
    "    '//*[@id=\"main-app\"]/main/div[4]/div/a[4]', # ESFJ\n",
    "    '//*[@id=\"main-app\"]/main/div[5]/div/a[3]', # ESTP\n",
    "    '//*[@id=\"main-app\"]/main/div[4]/div/a[3]', # ESTJ\n",
    "    '//*[@id=\"main-app\"]/main/div[3]/div/a[2]', # INFP\n",
    "    '//*[@id=\"main-app\"]/main/div[3]/div/a[1]', # INFJ\n",
    "    '//*[@id=\"main-app\"]/main/div[2]/div/a[2]', # INTP\n",
    "    '//*[@id=\"main-app\"]/main/div[2]/div/a[1]', # INTJ\n",
    "    '//*[@id=\"main-app\"]/main/div[3]/div/a[4]', # ENFP\n",
    "    '//*[@id=\"main-app\"]/main/div[3]/div/a[3]', # ENFJ\n",
    "    '//*[@id=\"main-app\"]/main/div[2]/div/a[4]', # ENTP\n",
    "    '//*[@id=\"main-app\"]/main/div[2]/div/a[3]', # ENTJ\n",
    "    '//*[@id=\"main-app\"]/main/div[5]/div/a[1]' # ISTP\n",
    "]"
   ]
  },
  {
   "cell_type": "code",
   "execution_count": 10,
   "id": "5a5f9d41-8172-42ee-8e00-c36b8d9d7c52",
   "metadata": {},
   "outputs": [
    {
     "name": "stdout",
     "output_type": "stream",
     "text": [
      "ISFP complete\n",
      "ISFJ complete\n",
      "ISTJ complete\n",
      "ESFP complete\n",
      "ESFJ complete\n",
      "ESTP complete\n",
      "ESTJ complete\n",
      "INFP complete\n",
      "INFJ complete\n",
      "INTP complete\n",
      "INTJ complete\n",
      "ENFP complete\n",
      "ENFJ complete\n",
      "ENTP complete\n",
      "ENTJ complete\n",
      "ISTP complete\n"
     ]
    }
   ],
   "source": [
    "driver = webdriver.Chrome()\n",
    "driver.get(URL)\n",
    "\n",
    "for idx, value in enumerate(MBTI_list):\n",
    "    driver.find_element_by_xpath(xpath_list[idx]).click()\n",
    "    html = driver.page_source\n",
    "    soup = BeautifulSoup(html, 'lxml')\n",
    "    \n",
    "    for feature in soup.select('p'):\n",
    "        mbti[value].append(feature.text)\n",
    "        \n",
    "    print(f'{value} complete')\n",
    "    driver.back()\n",
    "\n",
    "driver.close()"
   ]
  },
  {
   "cell_type": "code",
   "execution_count": null,
   "id": "980398ba-f7b4-48eb-a5d7-b8197b61855b",
   "metadata": {},
   "outputs": [],
   "source": []
  }
 ],
 "metadata": {
  "kernelspec": {
   "display_name": "Python 3 (ipykernel)",
   "language": "python",
   "name": "python3"
  },
  "language_info": {
   "codemirror_mode": {
    "name": "ipython",
    "version": 3
   },
   "file_extension": ".py",
   "mimetype": "text/x-python",
   "name": "python",
   "nbconvert_exporter": "python",
   "pygments_lexer": "ipython3",
   "version": "3.8.8"
  }
 },
 "nbformat": 4,
 "nbformat_minor": 5
}
